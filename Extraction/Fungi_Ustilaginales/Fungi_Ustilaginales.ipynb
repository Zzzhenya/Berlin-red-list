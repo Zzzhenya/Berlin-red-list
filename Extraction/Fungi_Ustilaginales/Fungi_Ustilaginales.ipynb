{
 "cells": [
  {
   "cell_type": "code",
   "execution_count": 1,
   "id": "620ba740-c064-4863-a91a-67136ef7c3e3",
   "metadata": {},
   "outputs": [],
   "source": [
    "import camelot\n",
    "import pandas as pd"
   ]
  },
  {
   "cell_type": "markdown",
   "id": "5df01434-db98-4059-a960-1b0fc92aeb74",
   "metadata": {},
   "source": [
    "# Updated Process"
   ]
  },
  {
   "cell_type": "markdown",
   "id": "a154dee1-1812-4d0c-952a-038784a62b69",
   "metadata": {
    "tags": []
   },
   "source": [
    "## 1. Create empty dataframe with proper column names"
   ]
  },
  {
   "cell_type": "code",
   "execution_count": 2,
   "id": "7bc3aae2-2450-4c75-b76c-ce0b5372fd61",
   "metadata": {},
   "outputs": [],
   "source": [
    "# This is where data will be added after cleaning. The final dataframe for export"
   ]
  },
  {
   "cell_type": "code",
   "execution_count": 3,
   "id": "34bffb55-bd0f-426b-90ba-a77f9379d5cd",
   "metadata": {},
   "outputs": [
    {
     "data": {
      "text/html": [
       "<div>\n",
       "<style scoped>\n",
       "    .dataframe tbody tr th:only-of-type {\n",
       "        vertical-align: middle;\n",
       "    }\n",
       "\n",
       "    .dataframe tbody tr th {\n",
       "        vertical-align: top;\n",
       "    }\n",
       "\n",
       "    .dataframe thead th {\n",
       "        text-align: right;\n",
       "    }\n",
       "</style>\n",
       "<table border=\"1\" class=\"dataframe\">\n",
       "  <thead>\n",
       "    <tr style=\"text-align: right;\">\n",
       "      <th></th>\n",
       "      <th>Species</th>\n",
       "      <th>BE</th>\n",
       "      <th>Wirtsart</th>\n",
       "      <th>Anzahl_Fundorte_vor1945</th>\n",
       "      <th>Anzahl_Fundorte_1945_1990</th>\n",
       "      <th>Anzahl_Fundorte_1991_2001</th>\n",
       "    </tr>\n",
       "  </thead>\n",
       "  <tbody>\n",
       "  </tbody>\n",
       "</table>\n",
       "</div>"
      ],
      "text/plain": [
       "Empty DataFrame\n",
       "Columns: [Species, BE, Wirtsart, Anzahl_Fundorte_vor1945, Anzahl_Fundorte_1945_1990, Anzahl_Fundorte_1991_2001]\n",
       "Index: []"
      ]
     },
     "execution_count": 3,
     "metadata": {},
     "output_type": "execute_result"
    }
   ],
   "source": [
    "df = pd.DataFrame(columns = [\n",
    "    \"Species\",\n",
    "    \"BE\", \n",
    "    \"Wirtsart\", \n",
    "    \"Anzahl_Fundorte_vor1945\", \n",
    "    \"Anzahl_Fundorte_1945_1990\",\n",
    "    \"Anzahl_Fundorte_1991_2001\"\n",
    "])\n",
    "df"
   ]
  },
  {
   "cell_type": "code",
   "execution_count": 4,
   "id": "47f97437-2eef-4c9b-8deb-d1e2f84793ad",
   "metadata": {},
   "outputs": [
    {
     "data": {
      "text/plain": [
       "(0, 6)"
      ]
     },
     "execution_count": 4,
     "metadata": {},
     "output_type": "execute_result"
    }
   ],
   "source": [
    "df.shape"
   ]
  },
  {
   "cell_type": "markdown",
   "id": "5603d676-871d-4ea0-a427-ff51d1b2a331",
   "metadata": {},
   "source": [
    "## 2. Setup mechanism to store accuracy report : QA step"
   ]
  },
  {
   "cell_type": "code",
   "execution_count": 5,
   "id": "946990cf-3a79-4a65-aaa1-c4f179995d67",
   "metadata": {},
   "outputs": [],
   "source": [
    "accuracy = []"
   ]
  },
  {
   "cell_type": "markdown",
   "id": "ee9ae4b1-5ed3-4c80-a0ed-948dbe574bfc",
   "metadata": {},
   "source": [
    "## 3. Dictionary of dataframes on the go"
   ]
  },
  {
   "cell_type": "code",
   "execution_count": 6,
   "id": "b2c7ed2b-b619-4a75-b052-12c8adb562cb",
   "metadata": {},
   "outputs": [],
   "source": [
    "# Dictionary to collect dataframes created from each table\n",
    "d = {}"
   ]
  },
  {
   "cell_type": "markdown",
   "id": "09ced9f2-acca-4c75-a113-0c06281a93cf",
   "metadata": {},
   "source": [
    "## 4. Adding the list of pages to be parsed"
   ]
  },
  {
   "cell_type": "code",
   "execution_count": 7,
   "id": "c7bd13c5-208e-4997-9366-2d4a2b43a355",
   "metadata": {},
   "outputs": [
    {
     "name": "stdout",
     "output_type": "stream",
     "text": [
      "[2, 3, 4, 5, 6]\n"
     ]
    }
   ],
   "source": [
    "pages = []\n",
    "i = 2\n",
    "while i < 7:\n",
    "    pages.append(i)\n",
    "    i = i + 1\n",
    "print(pages)"
   ]
  },
  {
   "cell_type": "markdown",
   "id": "e842252d-a796-45fb-b0cc-6a727f2a7bf7",
   "metadata": {},
   "source": [
    "## 5. Parsing through the pages"
   ]
  },
  {
   "cell_type": "code",
   "execution_count": 8,
   "id": "712128aa-f576-47fe-be80-4f5019d26b25",
   "metadata": {},
   "outputs": [
    {
     "name": "stdout",
     "output_type": "stream",
     "text": [
      "2\n",
      "(22, 6)\n",
      "3\n",
      "(23, 6)\n",
      "4\n",
      "(23, 6)\n",
      "5\n",
      "(23, 6)\n",
      "6\n",
      "(14, 6)\n",
      "Done\n"
     ]
    }
   ],
   "source": [
    "for i in pages:\n",
    "    # print page number\n",
    "    print (i)\n",
    "    # create dataframe with page number\n",
    "    d[i] = pd.DataFrame()\n",
    "    #read the page\n",
    "    #tables = camelot.read_pdf('18_netzfl_print.pdf', \n",
    "    #                          pages= str(i), \n",
    "    #                          flavor='stream', edge_tol=1000, row_tol=10)\n",
    "    tables = camelot.read_pdf('06_brandpilze_print.pdf', pages= str(i), flavor='lattice')\n",
    "    # add the accuracy report\n",
    "    accuracy.append(tables[0].parsing_report)\n",
    "    # assign the first table to a dataframe\n",
    "    d[i] = tables[0].df\n",
    "    print(d[i].shape)\n",
    "# Print Done once all pages are parsed\n",
    "print (\"Done\")"
   ]
  },
  {
   "cell_type": "code",
   "execution_count": 9,
   "id": "2f528b80-4a01-4eb4-9e53-43796ff224b4",
   "metadata": {},
   "outputs": [
    {
     "data": {
      "text/plain": [
       "[{'accuracy': 99.17, 'whitespace': 4.55, 'order': 1, 'page': 2},\n",
       " {'accuracy': 99.29, 'whitespace': 4.35, 'order': 1, 'page': 3},\n",
       " {'accuracy': 99.3, 'whitespace': 4.35, 'order': 1, 'page': 4},\n",
       " {'accuracy': 99.33, 'whitespace': 4.35, 'order': 1, 'page': 5},\n",
       " {'accuracy': 99.3, 'whitespace': 7.14, 'order': 1, 'page': 6}]"
      ]
     },
     "execution_count": 9,
     "metadata": {},
     "output_type": "execute_result"
    }
   ],
   "source": [
    "# Check accuracy reports for the process\n",
    "accuracy"
   ]
  },
  {
   "cell_type": "markdown",
   "id": "db574ad8-2c03-45ce-b016-28f12fc1d8d7",
   "metadata": {},
   "source": [
    "# Data cleanup steps"
   ]
  },
  {
   "cell_type": "raw",
   "id": "827959ab-12d0-4ea2-a41f-da7480ffbb91",
   "metadata": {},
   "source": [
    "d[67]       \n",
    "    : Look at the data frame extracted from 67th page\n",
    "d[67].shape \n",
    "    : Look at the shape of the dataframe\n",
    "d[68] = d[68].drop([12], axis=1)\n",
    "    : Drop the 12th column in place\n",
    "d[68][10] = d[68][[10, 11]].agg(' '.join, axis=1)\n",
    "    : Join 10th and 11th columns with a space in between\n",
    "d[69][[9,11]] = d[69][9].str.split('\\n', expand=True)\n",
    "    : Split 9th Column at the '\\n' sign and add a new column called 11\n",
    "column_to_move = d[69].pop(11)\n",
    "column_to_move\n",
    "d[69].insert(9, 11, column_to_move )\n",
    "    : Pop column 11 and insert it at column 9\n",
    "d[75].insert(9, '10', [\"\",\"\"])\n",
    "    : Insert two rows of column 10 after 9 with empty cells"
   ]
  },
  {
   "cell_type": "code",
   "execution_count": 10,
   "id": "565bcabf-5b9e-4f04-bf5b-231a56802061",
   "metadata": {},
   "outputs": [
    {
     "name": "stdout",
     "output_type": "stream",
     "text": [
      "2\n",
      "(22, 6)\n",
      "3\n",
      "(23, 6)\n",
      "4\n",
      "(23, 6)\n",
      "5\n",
      "(23, 6)\n",
      "6\n",
      "(14, 6)\n"
     ]
    }
   ],
   "source": [
    "# Check whether all dataframes are of the same size\n",
    "for key in d:\n",
    "    print(key)\n",
    "    print(d[key].shape)"
   ]
  },
  {
   "cell_type": "code",
   "execution_count": 11,
   "id": "259d931e-07a9-42a1-b92b-4ec85c5777a6",
   "metadata": {},
   "outputs": [],
   "source": [
    "# Removing empty dataframes\n",
    "# del d[64]\n",
    "# del d[74]"
   ]
  },
  {
   "cell_type": "code",
   "execution_count": 12,
   "id": "7d240c16-c939-4ce2-bc90-bdcfc52fe84c",
   "metadata": {},
   "outputs": [],
   "source": [
    "# Creates a sorted dictionary (sorted by key)\n",
    "from collections import OrderedDict\n",
    "d2 = OrderedDict(sorted(d.items()))"
   ]
  },
  {
   "cell_type": "code",
   "execution_count": 13,
   "id": "65c02a66-f14e-442d-a521-0c518f27c4a4",
   "metadata": {},
   "outputs": [
    {
     "name": "stdout",
     "output_type": "stream",
     "text": [
      "2\n",
      "3\n",
      "4\n",
      "5\n",
      "6\n"
     ]
    }
   ],
   "source": [
    "# Check whether the dictionary is sorted\n",
    "for key in d2:\n",
    "    print(key)"
   ]
  },
  {
   "cell_type": "code",
   "execution_count": 14,
   "id": "73e281ce-f58d-4991-9c1c-3b04638ceb0b",
   "metadata": {},
   "outputs": [
    {
     "name": "stdout",
     "output_type": "stream",
     "text": [
      "2\n",
      "3\n",
      "4\n",
      "5\n",
      "6\n",
      "Rename completed for concat\n"
     ]
    }
   ],
   "source": [
    "# Rename all the dataframes in the sorted dictionary\n",
    "for key in d2:\n",
    "    print(key)\n",
    "    d2[key].columns = [\"Species\",\n",
    "    \"BE\", \n",
    "    \"Wirtsart\", \n",
    "    \"Anzahl_Fundorte_vor1945\", \n",
    "    \"Anzahl_Fundorte_1945_1990\",\n",
    "    \"Anzahl_Fundorte_1991_2001\"]\n",
    "print(\"Rename completed for concat\")"
   ]
  },
  {
   "cell_type": "code",
   "execution_count": 15,
   "id": "b7e6983e-7c81-4852-9268-0dc9c1c98636",
   "metadata": {},
   "outputs": [
    {
     "data": {
      "text/html": [
       "<div>\n",
       "<style scoped>\n",
       "    .dataframe tbody tr th:only-of-type {\n",
       "        vertical-align: middle;\n",
       "    }\n",
       "\n",
       "    .dataframe tbody tr th {\n",
       "        vertical-align: top;\n",
       "    }\n",
       "\n",
       "    .dataframe thead th {\n",
       "        text-align: right;\n",
       "    }\n",
       "</style>\n",
       "<table border=\"1\" class=\"dataframe\">\n",
       "  <thead>\n",
       "    <tr style=\"text-align: right;\">\n",
       "      <th></th>\n",
       "      <th>Species</th>\n",
       "      <th>BE</th>\n",
       "      <th>Wirtsart</th>\n",
       "      <th>Anzahl_Fundorte_vor1945</th>\n",
       "      <th>Anzahl_Fundorte_1945_1990</th>\n",
       "      <th>Anzahl_Fundorte_1991_2001</th>\n",
       "    </tr>\n",
       "  </thead>\n",
       "  <tbody>\n",
       "    <tr>\n",
       "      <th>0</th>\n",
       "      <td>Wissenschaftlicher Name</td>\n",
       "      <td>BE  Wirtsart</td>\n",
       "      <td></td>\n",
       "      <td>Anzahl der Fundorte</td>\n",
       "      <td></td>\n",
       "      <td></td>\n",
       "    </tr>\n",
       "    <tr>\n",
       "      <th>1</th>\n",
       "      <td></td>\n",
       "      <td></td>\n",
       "      <td></td>\n",
       "      <td>vor \\n1945</td>\n",
       "      <td>1945-\\n1990</td>\n",
       "      <td>1991-\\n2001</td>\n",
       "    </tr>\n",
       "    <tr>\n",
       "      <th>2</th>\n",
       "      <td>Anthracoidea angulata (H. SYDOW) \\nBOIDOL &amp; POELT</td>\n",
       "      <td>0</td>\n",
       "      <td>Carex hirta</td>\n",
       "      <td>3</td>\n",
       "      <td>-</td>\n",
       "      <td>-</td>\n",
       "    </tr>\n",
       "    <tr>\n",
       "      <th>3</th>\n",
       "      <td>Anthracoidea arenaria (H. SYDOW) J. \\nNANNFELDT</td>\n",
       "      <td>1</td>\n",
       "      <td>Carex arenaria \\nCarex ligerica \\nCarex praecox</td>\n",
       "      <td>4 \\n3 \\n1</td>\n",
       "      <td>- \\n- \\n1</td>\n",
       "      <td>- \\n- \\n-</td>\n",
       "    </tr>\n",
       "    <tr>\n",
       "      <th>4</th>\n",
       "      <td>Anthracoidea caricis (PERSOON) \\nBREFELD</td>\n",
       "      <td>0</td>\n",
       "      <td>Carex pilulifera</td>\n",
       "      <td>2</td>\n",
       "      <td>-</td>\n",
       "      <td>-</td>\n",
       "    </tr>\n",
       "    <tr>\n",
       "      <th>...</th>\n",
       "      <td>...</td>\n",
       "      <td>...</td>\n",
       "      <td>...</td>\n",
       "      <td>...</td>\n",
       "      <td>...</td>\n",
       "      <td>...</td>\n",
       "    </tr>\n",
       "    <tr>\n",
       "      <th>9</th>\n",
       "      <td>Ustilago syntherismae (SCHWEINITZ) \\nPECK</td>\n",
       "      <td>1</td>\n",
       "      <td>Digitaria ischaemum (A) \\nDigitaria sanguinali...</td>\n",
       "      <td>7 \\n1</td>\n",
       "      <td>- \\n-</td>\n",
       "      <td>1 \\n1</td>\n",
       "    </tr>\n",
       "    <tr>\n",
       "      <th>10</th>\n",
       "      <td>Ustilago trichophora (LINK) KÖRNICKE</td>\n",
       "      <td>1</td>\n",
       "      <td>Echinochloa crus-galli (A)</td>\n",
       "      <td>-</td>\n",
       "      <td>1</td>\n",
       "      <td>-</td>\n",
       "    </tr>\n",
       "    <tr>\n",
       "      <th>11</th>\n",
       "      <td>Ustilago tritici (PERSOON) ROSTRUP</td>\n",
       "      <td>V</td>\n",
       "      <td>Hordeum distichon (cult.) \\nHordeum vulgare (c...</td>\n",
       "      <td>3 \\n3 \\n2</td>\n",
       "      <td>3 \\n- \\n2</td>\n",
       "      <td>- \\n- \\n-</td>\n",
       "    </tr>\n",
       "    <tr>\n",
       "      <th>12</th>\n",
       "      <td>Vankya ornithogali (SCHMIDT &amp; \\nKUNZE) ERSHAD ...</td>\n",
       "      <td>-</td>\n",
       "      <td>Gagea lutea \\nGagea minima (?) \\nGagea pratens...</td>\n",
       "      <td>1 \\n- \\n2 \\n3</td>\n",
       "      <td>- \\n2 \\n17 \\n1</td>\n",
       "      <td>- \\n- \\n1 \\n1</td>\n",
       "    </tr>\n",
       "    <tr>\n",
       "      <th>13</th>\n",
       "      <td>Vankya vaillantii (L. R. &amp; C. TULASNE) \\nERSHA...</td>\n",
       "      <td>0</td>\n",
       "      <td>Chinodoxa spec. (cult.) \\nMuscari comosum (cul...</td>\n",
       "      <td>1 \\n1 \\n1</td>\n",
       "      <td>- \\n- \\n-</td>\n",
       "      <td>- \\n- \\n-</td>\n",
       "    </tr>\n",
       "  </tbody>\n",
       "</table>\n",
       "<p>105 rows × 6 columns</p>\n",
       "</div>"
      ],
      "text/plain": [
       "                                              Species            BE  \\\n",
       "0                             Wissenschaftlicher Name  BE  Wirtsart   \n",
       "1                                                                     \n",
       "2   Anthracoidea angulata (H. SYDOW) \\nBOIDOL & POELT             0   \n",
       "3     Anthracoidea arenaria (H. SYDOW) J. \\nNANNFELDT             1   \n",
       "4            Anthracoidea caricis (PERSOON) \\nBREFELD             0   \n",
       "..                                                ...           ...   \n",
       "9           Ustilago syntherismae (SCHWEINITZ) \\nPECK             1   \n",
       "10               Ustilago trichophora (LINK) KÖRNICKE             1   \n",
       "11                 Ustilago tritici (PERSOON) ROSTRUP             V   \n",
       "12  Vankya ornithogali (SCHMIDT & \\nKUNZE) ERSHAD ...             -   \n",
       "13  Vankya vaillantii (L. R. & C. TULASNE) \\nERSHA...             0   \n",
       "\n",
       "                                             Wirtsart Anzahl_Fundorte_vor1945  \\\n",
       "0                                                         Anzahl der Fundorte   \n",
       "1                                                                  vor \\n1945   \n",
       "2                                         Carex hirta                       3   \n",
       "3     Carex arenaria \\nCarex ligerica \\nCarex praecox               4 \\n3 \\n1   \n",
       "4                                    Carex pilulifera                       2   \n",
       "..                                                ...                     ...   \n",
       "9   Digitaria ischaemum (A) \\nDigitaria sanguinali...                   7 \\n1   \n",
       "10                         Echinochloa crus-galli (A)                       -   \n",
       "11  Hordeum distichon (cult.) \\nHordeum vulgare (c...               3 \\n3 \\n2   \n",
       "12  Gagea lutea \\nGagea minima (?) \\nGagea pratens...           1 \\n- \\n2 \\n3   \n",
       "13  Chinodoxa spec. (cult.) \\nMuscari comosum (cul...               1 \\n1 \\n1   \n",
       "\n",
       "   Anzahl_Fundorte_1945_1990 Anzahl_Fundorte_1991_2001  \n",
       "0                                                       \n",
       "1                1945-\\n1990               1991-\\n2001  \n",
       "2                          -                         -  \n",
       "3                  - \\n- \\n1                 - \\n- \\n-  \n",
       "4                          -                         -  \n",
       "..                       ...                       ...  \n",
       "9                      - \\n-                     1 \\n1  \n",
       "10                         1                         -  \n",
       "11                 3 \\n- \\n2                 - \\n- \\n-  \n",
       "12            - \\n2 \\n17 \\n1             - \\n- \\n1 \\n1  \n",
       "13                 - \\n- \\n-                 - \\n- \\n-  \n",
       "\n",
       "[105 rows x 6 columns]"
      ]
     },
     "execution_count": 15,
     "metadata": {},
     "output_type": "execute_result"
    }
   ],
   "source": [
    "# Concatanate all the non-empty dataframes in the sorted dictionary into the empty df\n",
    "for key in d2:\n",
    "    df = pd.concat([df, d2[key]], axis = 0)\n",
    "df"
   ]
  },
  {
   "cell_type": "code",
   "execution_count": 16,
   "id": "e0bc1775-ea39-4950-869e-a410700ee7b0",
   "metadata": {},
   "outputs": [
    {
     "data": {
      "text/html": [
       "<div>\n",
       "<style scoped>\n",
       "    .dataframe tbody tr th:only-of-type {\n",
       "        vertical-align: middle;\n",
       "    }\n",
       "\n",
       "    .dataframe tbody tr th {\n",
       "        vertical-align: top;\n",
       "    }\n",
       "\n",
       "    .dataframe thead th {\n",
       "        text-align: right;\n",
       "    }\n",
       "</style>\n",
       "<table border=\"1\" class=\"dataframe\">\n",
       "  <thead>\n",
       "    <tr style=\"text-align: right;\">\n",
       "      <th></th>\n",
       "      <th>Species</th>\n",
       "      <th>BE</th>\n",
       "      <th>Wirtsart</th>\n",
       "      <th>Anzahl_Fundorte_vor1945</th>\n",
       "      <th>Anzahl_Fundorte_1945_1990</th>\n",
       "      <th>Anzahl_Fundorte_1991_2001</th>\n",
       "    </tr>\n",
       "  </thead>\n",
       "  <tbody>\n",
       "    <tr>\n",
       "      <th>0</th>\n",
       "      <td>Anthracoidea angulata (H. SYDOW) \\nBOIDOL &amp; POELT</td>\n",
       "      <td>0</td>\n",
       "      <td>Carex hirta</td>\n",
       "      <td>3</td>\n",
       "      <td>-</td>\n",
       "      <td>-</td>\n",
       "    </tr>\n",
       "    <tr>\n",
       "      <th>1</th>\n",
       "      <td>Anthracoidea caricis (PERSOON) \\nBREFELD</td>\n",
       "      <td>0</td>\n",
       "      <td>Carex pilulifera</td>\n",
       "      <td>2</td>\n",
       "      <td>-</td>\n",
       "      <td>-</td>\n",
       "    </tr>\n",
       "    <tr>\n",
       "      <th>2</th>\n",
       "      <td>Anthracoidea caryophylleae KUKKO-\\nNEN</td>\n",
       "      <td>0</td>\n",
       "      <td>Carex supina</td>\n",
       "      <td>5</td>\n",
       "      <td>-</td>\n",
       "      <td>-</td>\n",
       "    </tr>\n",
       "    <tr>\n",
       "      <th>3</th>\n",
       "      <td>Anthracoidea limosa (H. SYDOW) \\nKUKKONEN</td>\n",
       "      <td>0</td>\n",
       "      <td>Carex limosa</td>\n",
       "      <td>1</td>\n",
       "      <td>-</td>\n",
       "      <td>-</td>\n",
       "    </tr>\n",
       "    <tr>\n",
       "      <th>4</th>\n",
       "      <td>Doassansia alismatis (NEES) CORNU</td>\n",
       "      <td>0</td>\n",
       "      <td>Alisma plantago-aquatica</td>\n",
       "      <td>4</td>\n",
       "      <td>-</td>\n",
       "      <td>-</td>\n",
       "    </tr>\n",
       "  </tbody>\n",
       "</table>\n",
       "</div>"
      ],
      "text/plain": [
       "                                             Species BE  \\\n",
       "0  Anthracoidea angulata (H. SYDOW) \\nBOIDOL & POELT  0   \n",
       "1           Anthracoidea caricis (PERSOON) \\nBREFELD  0   \n",
       "2             Anthracoidea caryophylleae KUKKO-\\nNEN  0   \n",
       "3          Anthracoidea limosa (H. SYDOW) \\nKUKKONEN  0   \n",
       "4                  Doassansia alismatis (NEES) CORNU  0   \n",
       "\n",
       "                   Wirtsart Anzahl_Fundorte_vor1945 Anzahl_Fundorte_1945_1990  \\\n",
       "0               Carex hirta                       3                         -   \n",
       "1          Carex pilulifera                       2                         -   \n",
       "2              Carex supina                       5                         -   \n",
       "3              Carex limosa                       1                         -   \n",
       "4  Alisma plantago-aquatica                       4                         -   \n",
       "\n",
       "  Anzahl_Fundorte_1991_2001  \n",
       "0                         -  \n",
       "1                         -  \n",
       "2                         -  \n",
       "3                         -  \n",
       "4                         -  "
      ]
     },
     "execution_count": 16,
     "metadata": {},
     "output_type": "execute_result"
    }
   ],
   "source": [
    "# Definition of extinction\n",
    "df2 = df.loc[df[\"BE\"] == \"0\"]\n",
    "df2.reset_index(inplace = True)\n",
    "df2 = df2.drop(['index'], axis=1)\n",
    "df2.head()"
   ]
  },
  {
   "cell_type": "code",
   "execution_count": 17,
   "id": "4a1d2c02-ffd3-4bf6-a764-e44b16658fc0",
   "metadata": {},
   "outputs": [
    {
     "data": {
      "text/plain": [
       "'\\ndf3 = df.loc[df[\"Bestand\"] == \"ex\"]\\ndf3.reset_index(inplace = True)\\ndf3 = df3.drop([\\'index\\'], axis=1)\\ndf3.head()\\n'"
      ]
     },
     "execution_count": 17,
     "metadata": {},
     "output_type": "execute_result"
    }
   ],
   "source": [
    "'''\n",
    "df3 = df.loc[df[\"Bestand\"] == \"ex\"]\n",
    "df3.reset_index(inplace = True)\n",
    "df3 = df3.drop(['index'], axis=1)\n",
    "df3.head()\n",
    "'''"
   ]
  },
  {
   "cell_type": "code",
   "execution_count": 18,
   "id": "a238f8a8-ae9a-4e2d-9fac-6c9c32e203b7",
   "metadata": {},
   "outputs": [
    {
     "data": {
      "text/html": [
       "<div>\n",
       "<style scoped>\n",
       "    .dataframe tbody tr th:only-of-type {\n",
       "        vertical-align: middle;\n",
       "    }\n",
       "\n",
       "    .dataframe tbody tr th {\n",
       "        vertical-align: top;\n",
       "    }\n",
       "\n",
       "    .dataframe thead th {\n",
       "        text-align: right;\n",
       "    }\n",
       "</style>\n",
       "<table border=\"1\" class=\"dataframe\">\n",
       "  <thead>\n",
       "    <tr style=\"text-align: right;\">\n",
       "      <th></th>\n",
       "      <th>Species</th>\n",
       "      <th>BE</th>\n",
       "      <th>Wirtsart</th>\n",
       "      <th>Anzahl_Fundorte_vor1945</th>\n",
       "      <th>Anzahl_Fundorte_1945_1990</th>\n",
       "      <th>Anzahl_Fundorte_1991_2001</th>\n",
       "    </tr>\n",
       "  </thead>\n",
       "  <tbody>\n",
       "    <tr>\n",
       "      <th>count</th>\n",
       "      <td>44</td>\n",
       "      <td>44</td>\n",
       "      <td>44</td>\n",
       "      <td>44</td>\n",
       "      <td>44</td>\n",
       "      <td>44</td>\n",
       "    </tr>\n",
       "    <tr>\n",
       "      <th>unique</th>\n",
       "      <td>44</td>\n",
       "      <td>1</td>\n",
       "      <td>42</td>\n",
       "      <td>16</td>\n",
       "      <td>5</td>\n",
       "      <td>4</td>\n",
       "    </tr>\n",
       "    <tr>\n",
       "      <th>top</th>\n",
       "      <td>Anthracoidea angulata (H. SYDOW) \\nBOIDOL &amp; POELT</td>\n",
       "      <td>0</td>\n",
       "      <td>Sorghum bicolor (cult.)</td>\n",
       "      <td>1</td>\n",
       "      <td>-</td>\n",
       "      <td>-</td>\n",
       "    </tr>\n",
       "    <tr>\n",
       "      <th>freq</th>\n",
       "      <td>1</td>\n",
       "      <td>44</td>\n",
       "      <td>2</td>\n",
       "      <td>19</td>\n",
       "      <td>34</td>\n",
       "      <td>35</td>\n",
       "    </tr>\n",
       "  </tbody>\n",
       "</table>\n",
       "</div>"
      ],
      "text/plain": [
       "                                                  Species  BE  \\\n",
       "count                                                  44  44   \n",
       "unique                                                 44   1   \n",
       "top     Anthracoidea angulata (H. SYDOW) \\nBOIDOL & POELT   0   \n",
       "freq                                                    1  44   \n",
       "\n",
       "                       Wirtsart Anzahl_Fundorte_vor1945  \\\n",
       "count                        44                      44   \n",
       "unique                       42                      16   \n",
       "top     Sorghum bicolor (cult.)                       1   \n",
       "freq                          2                      19   \n",
       "\n",
       "       Anzahl_Fundorte_1945_1990 Anzahl_Fundorte_1991_2001  \n",
       "count                         44                        44  \n",
       "unique                         5                         4  \n",
       "top                            -                         -  \n",
       "freq                          34                        35  "
      ]
     },
     "execution_count": 18,
     "metadata": {},
     "output_type": "execute_result"
    }
   ],
   "source": [
    "df2.describe()"
   ]
  },
  {
   "cell_type": "code",
   "execution_count": 19,
   "id": "fc838514-790c-4c43-bade-5debda89199c",
   "metadata": {},
   "outputs": [],
   "source": [
    "#df3.describe()"
   ]
  },
  {
   "cell_type": "code",
   "execution_count": 20,
   "id": "14eda330-12b0-4641-959e-258e5695efdd",
   "metadata": {},
   "outputs": [],
   "source": [
    "# export the dataframe as CSV\n",
    "df2.to_csv('Fungi_Ustilaginales.csv', index=False)"
   ]
  },
  {
   "cell_type": "code",
   "execution_count": null,
   "id": "2f3e3921-26ae-46d4-be0b-0855d6d3f558",
   "metadata": {},
   "outputs": [],
   "source": []
  }
 ],
 "metadata": {
  "kernelspec": {
   "display_name": "Python 3 (ipykernel)",
   "language": "python",
   "name": "python3"
  },
  "language_info": {
   "codemirror_mode": {
    "name": "ipython",
    "version": 3
   },
   "file_extension": ".py",
   "mimetype": "text/x-python",
   "name": "python",
   "nbconvert_exporter": "python",
   "pygments_lexer": "ipython3",
   "version": "3.8.9"
  }
 },
 "nbformat": 4,
 "nbformat_minor": 5
}
