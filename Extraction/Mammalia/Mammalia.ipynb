{
 "cells": [
  {
   "cell_type": "code",
   "execution_count": 1,
   "id": "620ba740-c064-4863-a91a-67136ef7c3e3",
   "metadata": {},
   "outputs": [],
   "source": [
    "import camelot\n",
    "import pandas as pd"
   ]
  },
  {
   "cell_type": "markdown",
   "id": "5df01434-db98-4059-a960-1b0fc92aeb74",
   "metadata": {},
   "source": [
    "# Updated Process"
   ]
  },
  {
   "cell_type": "markdown",
   "id": "a154dee1-1812-4d0c-952a-038784a62b69",
   "metadata": {
    "tags": []
   },
   "source": [
    "## 1. Create empty dataframe with proper column names"
   ]
  },
  {
   "cell_type": "code",
   "execution_count": 2,
   "id": "7bc3aae2-2450-4c75-b76c-ce0b5372fd61",
   "metadata": {},
   "outputs": [],
   "source": [
    "# This is where data will be added after cleaning. The final dataframe for export"
   ]
  },
  {
   "cell_type": "code",
   "execution_count": 3,
   "id": "34bffb55-bd0f-426b-90ba-a77f9379d5cd",
   "metadata": {},
   "outputs": [
    {
     "data": {
      "text/html": [
       "<div>\n",
       "<style scoped>\n",
       "    .dataframe tbody tr th:only-of-type {\n",
       "        vertical-align: middle;\n",
       "    }\n",
       "\n",
       "    .dataframe tbody tr th {\n",
       "        vertical-align: top;\n",
       "    }\n",
       "\n",
       "    .dataframe thead th {\n",
       "        text-align: right;\n",
       "    }\n",
       "</style>\n",
       "<table border=\"1\" class=\"dataframe\">\n",
       "  <thead>\n",
       "    <tr style=\"text-align: right;\">\n",
       "      <th></th>\n",
       "      <th>Common_name</th>\n",
       "      <th>Species</th>\n",
       "      <th>BE</th>\n",
       "      <th>BB</th>\n",
       "      <th>DE</th>\n",
       "      <th>GS</th>\n",
       "      <th>Vorzugshabitate</th>\n",
       "      <th>Gefährdungsursachen</th>\n",
       "    </tr>\n",
       "  </thead>\n",
       "  <tbody>\n",
       "  </tbody>\n",
       "</table>\n",
       "</div>"
      ],
      "text/plain": [
       "Empty DataFrame\n",
       "Columns: [Common_name, Species, BE, BB, DE, GS, Vorzugshabitate, Gefährdungsursachen]\n",
       "Index: []"
      ]
     },
     "execution_count": 3,
     "metadata": {},
     "output_type": "execute_result"
    }
   ],
   "source": [
    "df = pd.DataFrame(columns = [\n",
    "    \"Common_name\",\n",
    "    \"Species\",\n",
    "    \"BE\", \n",
    "    \"BB\", \n",
    "    \"DE\", \n",
    "    \"GS\",\n",
    "    \"Vorzugshabitate\",\n",
    "    \"Gefährdungsursachen\"\n",
    "])\n",
    "df"
   ]
  },
  {
   "cell_type": "code",
   "execution_count": 4,
   "id": "47f97437-2eef-4c9b-8deb-d1e2f84793ad",
   "metadata": {},
   "outputs": [
    {
     "data": {
      "text/plain": [
       "(0, 8)"
      ]
     },
     "execution_count": 4,
     "metadata": {},
     "output_type": "execute_result"
    }
   ],
   "source": [
    "df.shape"
   ]
  },
  {
   "cell_type": "markdown",
   "id": "5603d676-871d-4ea0-a427-ff51d1b2a331",
   "metadata": {},
   "source": [
    "## 2. Setup mechanism to store accuracy report : QA step"
   ]
  },
  {
   "cell_type": "code",
   "execution_count": 5,
   "id": "946990cf-3a79-4a65-aaa1-c4f179995d67",
   "metadata": {},
   "outputs": [],
   "source": [
    "accuracy = []"
   ]
  },
  {
   "cell_type": "markdown",
   "id": "ee9ae4b1-5ed3-4c80-a0ed-948dbe574bfc",
   "metadata": {},
   "source": [
    "## 3. Dictionary of dataframes on the go"
   ]
  },
  {
   "cell_type": "code",
   "execution_count": 6,
   "id": "b2c7ed2b-b619-4a75-b052-12c8adb562cb",
   "metadata": {},
   "outputs": [],
   "source": [
    "# Dictionary to collect dataframes created from each table\n",
    "d = {}"
   ]
  },
  {
   "cell_type": "markdown",
   "id": "09ced9f2-acca-4c75-a113-0c06281a93cf",
   "metadata": {},
   "source": [
    "## 4. Adding the list of pages to be parsed"
   ]
  },
  {
   "cell_type": "code",
   "execution_count": 7,
   "id": "c7bd13c5-208e-4997-9366-2d4a2b43a355",
   "metadata": {},
   "outputs": [
    {
     "name": "stdout",
     "output_type": "stream",
     "text": [
      "[4, 5, 6]\n"
     ]
    }
   ],
   "source": [
    "pages = []\n",
    "i = 4\n",
    "while i < 7:\n",
    "    pages.append(i)\n",
    "    i = i + 1\n",
    "print(pages)"
   ]
  },
  {
   "cell_type": "markdown",
   "id": "e842252d-a796-45fb-b0cc-6a727f2a7bf7",
   "metadata": {},
   "source": [
    "## 5. Parsing through the pages"
   ]
  },
  {
   "cell_type": "code",
   "execution_count": 8,
   "id": "712128aa-f576-47fe-be80-4f5019d26b25",
   "metadata": {},
   "outputs": [
    {
     "name": "stdout",
     "output_type": "stream",
     "text": [
      "4\n",
      "(12, 8)\n",
      "5\n",
      "(28, 8)\n",
      "6\n",
      "(28, 8)\n",
      "Done\n"
     ]
    }
   ],
   "source": [
    "for i in pages:\n",
    "    # print page number\n",
    "    print (i)\n",
    "    # create dataframe with page number\n",
    "    d[i] = pd.DataFrame()\n",
    "    #read the page\n",
    "    #tables = camelot.read_pdf('18_netzfl_print.pdf', \n",
    "    #                          pages= str(i), \n",
    "    #                          flavor='stream', edge_tol=1000, row_tol=10)\n",
    "    tables = camelot.read_pdf('10_saeuge_print.pdf', pages= str(i), flavor='lattice')\n",
    "    # add the accuracy report\n",
    "    accuracy.append(tables[0].parsing_report)\n",
    "    # assign the first table to a dataframe\n",
    "    d[i] = tables[0].df\n",
    "    print(d[i].shape)\n",
    "# Print Done once all pages are parsed\n",
    "print (\"Done\")"
   ]
  },
  {
   "cell_type": "code",
   "execution_count": 9,
   "id": "2f528b80-4a01-4eb4-9e53-43796ff224b4",
   "metadata": {},
   "outputs": [
    {
     "data": {
      "text/plain": [
       "[{'accuracy': 98.92, 'whitespace': 29.17, 'order': 1, 'page': 4},\n",
       " {'accuracy': 98.65, 'whitespace': 18.75, 'order': 1, 'page': 5},\n",
       " {'accuracy': 99.56, 'whitespace': 23.66, 'order': 1, 'page': 6}]"
      ]
     },
     "execution_count": 9,
     "metadata": {},
     "output_type": "execute_result"
    }
   ],
   "source": [
    "# Check accuracy reports for the process\n",
    "accuracy"
   ]
  },
  {
   "cell_type": "markdown",
   "id": "db574ad8-2c03-45ce-b016-28f12fc1d8d7",
   "metadata": {},
   "source": [
    "# Data cleanup steps"
   ]
  },
  {
   "cell_type": "raw",
   "id": "827959ab-12d0-4ea2-a41f-da7480ffbb91",
   "metadata": {},
   "source": [
    "d[67]       \n",
    "    : Look at the data frame extracted from 67th page\n",
    "d[67].shape \n",
    "    : Look at the shape of the dataframe\n",
    "d[68] = d[68].drop([12], axis=1)\n",
    "    : Drop the 12th column in place\n",
    "d[68][10] = d[68][[10, 11]].agg(' '.join, axis=1)\n",
    "    : Join 10th and 11th columns with a space in between\n",
    "d[69][[9,11]] = d[69][9].str.split('\\n', expand=True)\n",
    "    : Split 9th Column at the '\\n' sign and add a new column called 11\n",
    "column_to_move = d[69].pop(11)\n",
    "column_to_move\n",
    "d[69].insert(9, 11, column_to_move )\n",
    "    : Pop column 11 and insert it at column 9\n",
    "d[75].insert(9, '10', [\"\",\"\"])\n",
    "    : Insert two rows of column 10 after 9 with empty cells"
   ]
  },
  {
   "cell_type": "code",
   "execution_count": 10,
   "id": "565bcabf-5b9e-4f04-bf5b-231a56802061",
   "metadata": {},
   "outputs": [
    {
     "name": "stdout",
     "output_type": "stream",
     "text": [
      "4\n",
      "(12, 8)\n",
      "5\n",
      "(28, 8)\n",
      "6\n",
      "(28, 8)\n"
     ]
    }
   ],
   "source": [
    "# Check whether all dataframes are of the same size\n",
    "for key in d:\n",
    "    print(key)\n",
    "    print(d[key].shape)"
   ]
  },
  {
   "cell_type": "code",
   "execution_count": 11,
   "id": "259d931e-07a9-42a1-b92b-4ec85c5777a6",
   "metadata": {},
   "outputs": [],
   "source": [
    "# Removing empty dataframes\n",
    "# del d[64]\n",
    "# del d[74]"
   ]
  },
  {
   "cell_type": "code",
   "execution_count": 12,
   "id": "7d240c16-c939-4ce2-bc90-bdcfc52fe84c",
   "metadata": {},
   "outputs": [],
   "source": [
    "# Creates a sorted dictionary (sorted by key)\n",
    "from collections import OrderedDict\n",
    "d2 = OrderedDict(sorted(d.items()))"
   ]
  },
  {
   "cell_type": "code",
   "execution_count": 13,
   "id": "65c02a66-f14e-442d-a521-0c518f27c4a4",
   "metadata": {},
   "outputs": [
    {
     "name": "stdout",
     "output_type": "stream",
     "text": [
      "4\n",
      "5\n",
      "6\n"
     ]
    }
   ],
   "source": [
    "# Check whether the dictionary is sorted\n",
    "for key in d2:\n",
    "    print(key)"
   ]
  },
  {
   "cell_type": "code",
   "execution_count": 14,
   "id": "73e281ce-f58d-4991-9c1c-3b04638ceb0b",
   "metadata": {},
   "outputs": [
    {
     "name": "stdout",
     "output_type": "stream",
     "text": [
      "4\n",
      "5\n",
      "6\n",
      "Rename completed for concat\n"
     ]
    }
   ],
   "source": [
    "# Rename all the dataframes in the sorted dictionary\n",
    "for key in d2:\n",
    "    print(key)\n",
    "    d2[key].columns = [  \"Common_name\",\n",
    "    \"Species\",\n",
    "    \"BE\", \n",
    "    \"BB\", \n",
    "    \"DE\", \n",
    "    \"GS\",\n",
    "    \"Vorzugshabitate\",\n",
    "    \"Gefährdungsursachen\"]\n",
    "print(\"Rename completed for concat\")"
   ]
  },
  {
   "cell_type": "code",
   "execution_count": 15,
   "id": "b7e6983e-7c81-4852-9268-0dc9c1c98636",
   "metadata": {},
   "outputs": [
    {
     "data": {
      "text/html": [
       "<div>\n",
       "<style scoped>\n",
       "    .dataframe tbody tr th:only-of-type {\n",
       "        vertical-align: middle;\n",
       "    }\n",
       "\n",
       "    .dataframe tbody tr th {\n",
       "        vertical-align: top;\n",
       "    }\n",
       "\n",
       "    .dataframe thead th {\n",
       "        text-align: right;\n",
       "    }\n",
       "</style>\n",
       "<table border=\"1\" class=\"dataframe\">\n",
       "  <thead>\n",
       "    <tr style=\"text-align: right;\">\n",
       "      <th></th>\n",
       "      <th>Common_name</th>\n",
       "      <th>Species</th>\n",
       "      <th>BE</th>\n",
       "      <th>BB</th>\n",
       "      <th>DE</th>\n",
       "      <th>GS</th>\n",
       "      <th>Vorzugshabitate</th>\n",
       "      <th>Gefährdungsursachen</th>\n",
       "    </tr>\n",
       "  </thead>\n",
       "  <tbody>\n",
       "    <tr>\n",
       "      <th>0</th>\n",
       "      <td>Deutscher Name \\nWissenschaftlicher Name \\nBE\\...</td>\n",
       "      <td></td>\n",
       "      <td></td>\n",
       "      <td></td>\n",
       "      <td></td>\n",
       "      <td></td>\n",
       "      <td></td>\n",
       "      <td></td>\n",
       "    </tr>\n",
       "    <tr>\n",
       "      <th>1</th>\n",
       "      <td>Insektenfresser Insectivora</td>\n",
       "      <td></td>\n",
       "      <td></td>\n",
       "      <td></td>\n",
       "      <td></td>\n",
       "      <td></td>\n",
       "      <td></td>\n",
       "      <td></td>\n",
       "    </tr>\n",
       "    <tr>\n",
       "      <th>2</th>\n",
       "      <td>Braunbrustigel</td>\n",
       "      <td>Erinaceus europaeus LINNAEUS</td>\n",
       "      <td>-</td>\n",
       "      <td>-</td>\n",
       "      <td>-</td>\n",
       "      <td>§</td>\n",
       "      <td>W, P, O</td>\n",
       "      <td></td>\n",
       "    </tr>\n",
       "    <tr>\n",
       "      <th>3</th>\n",
       "      <td>Feldspitzmaus*</td>\n",
       "      <td>Crocidura leucodon (HER-\\nMANN)*</td>\n",
       "      <td>-</td>\n",
       "      <td>-</td>\n",
       "      <td>3</td>\n",
       "      <td>§</td>\n",
       "      <td>RS, G, LA</td>\n",
       "      <td></td>\n",
       "    </tr>\n",
       "    <tr>\n",
       "      <th>4</th>\n",
       "      <td>Gartenspitzmaus*</td>\n",
       "      <td>Crocidura suaveolens (PAL-\\nLAS)*</td>\n",
       "      <td>-</td>\n",
       "      <td>-</td>\n",
       "      <td>3</td>\n",
       "      <td>§</td>\n",
       "      <td>RS, OAD</td>\n",
       "      <td></td>\n",
       "    </tr>\n",
       "    <tr>\n",
       "      <th>...</th>\n",
       "      <td>...</td>\n",
       "      <td>...</td>\n",
       "      <td>...</td>\n",
       "      <td>...</td>\n",
       "      <td>...</td>\n",
       "      <td>...</td>\n",
       "      <td>...</td>\n",
       "      <td>...</td>\n",
       "    </tr>\n",
       "    <tr>\n",
       "      <th>23</th>\n",
       "      <td>Damhirsch</td>\n",
       "      <td>Cervus dama LINNAEUS</td>\n",
       "      <td>-</td>\n",
       "      <td>-</td>\n",
       "      <td>-</td>\n",
       "      <td></td>\n",
       "      <td>W</td>\n",
       "      <td></td>\n",
       "    </tr>\n",
       "    <tr>\n",
       "      <th>24</th>\n",
       "      <td>Mufflon</td>\n",
       "      <td>Ovis ammon (PALLAS)</td>\n",
       "      <td>-</td>\n",
       "      <td>-</td>\n",
       "      <td>-</td>\n",
       "      <td></td>\n",
       "      <td>W</td>\n",
       "      <td></td>\n",
       "    </tr>\n",
       "    <tr>\n",
       "      <th>25</th>\n",
       "      <td>Reh</td>\n",
       "      <td>Capreolus capreolus (LIN-\\nNAEUS)</td>\n",
       "      <td>-</td>\n",
       "      <td>-</td>\n",
       "      <td>-</td>\n",
       "      <td></td>\n",
       "      <td>W, G, L</td>\n",
       "      <td></td>\n",
       "    </tr>\n",
       "    <tr>\n",
       "      <th>26</th>\n",
       "      <td>Rothirsch*</td>\n",
       "      <td>Cervus elaphus LINNAEUS*</td>\n",
       "      <td>0</td>\n",
       "      <td>-</td>\n",
       "      <td></td>\n",
       "      <td></td>\n",
       "      <td>W</td>\n",
       "      <td>4d, 14b</td>\n",
       "    </tr>\n",
       "    <tr>\n",
       "      <th>27</th>\n",
       "      <td>Wildschwein</td>\n",
       "      <td>Sus scrofa LINNAEUS</td>\n",
       "      <td>-</td>\n",
       "      <td>-</td>\n",
       "      <td>-</td>\n",
       "      <td></td>\n",
       "      <td>W</td>\n",
       "      <td></td>\n",
       "    </tr>\n",
       "  </tbody>\n",
       "</table>\n",
       "<p>68 rows × 8 columns</p>\n",
       "</div>"
      ],
      "text/plain": [
       "                                          Common_name  \\\n",
       "0   Deutscher Name \\nWissenschaftlicher Name \\nBE\\...   \n",
       "1                         Insektenfresser Insectivora   \n",
       "2                                      Braunbrustigel   \n",
       "3                                      Feldspitzmaus*   \n",
       "4                                    Gartenspitzmaus*   \n",
       "..                                                ...   \n",
       "23                                          Damhirsch   \n",
       "24                                            Mufflon   \n",
       "25                                                Reh   \n",
       "26                                         Rothirsch*   \n",
       "27                                        Wildschwein   \n",
       "\n",
       "                              Species BE BB DE GS Vorzugshabitate  \\\n",
       "0                                                                   \n",
       "1                                                                   \n",
       "2        Erinaceus europaeus LINNAEUS  -  -  -  §         W, P, O   \n",
       "3    Crocidura leucodon (HER-\\nMANN)*  -  -  3  §       RS, G, LA   \n",
       "4   Crocidura suaveolens (PAL-\\nLAS)*  -  -  3  §         RS, OAD   \n",
       "..                                ... .. .. .. ..             ...   \n",
       "23               Cervus dama LINNAEUS  -  -  -                  W   \n",
       "24                Ovis ammon (PALLAS)  -  -  -                  W   \n",
       "25  Capreolus capreolus (LIN-\\nNAEUS)  -  -  -            W, G, L   \n",
       "26           Cervus elaphus LINNAEUS*  0  -                     W   \n",
       "27                Sus scrofa LINNAEUS  -  -  -                  W   \n",
       "\n",
       "   Gefährdungsursachen  \n",
       "0                       \n",
       "1                       \n",
       "2                       \n",
       "3                       \n",
       "4                       \n",
       "..                 ...  \n",
       "23                      \n",
       "24                      \n",
       "25                      \n",
       "26             4d, 14b  \n",
       "27                      \n",
       "\n",
       "[68 rows x 8 columns]"
      ]
     },
     "execution_count": 15,
     "metadata": {},
     "output_type": "execute_result"
    }
   ],
   "source": [
    "# Concatanate all the non-empty dataframes in the sorted dictionary into the empty df\n",
    "for key in d2:\n",
    "    df = pd.concat([df, d2[key]], axis = 0)\n",
    "df"
   ]
  },
  {
   "cell_type": "code",
   "execution_count": 16,
   "id": "e0bc1775-ea39-4950-869e-a410700ee7b0",
   "metadata": {},
   "outputs": [
    {
     "data": {
      "text/html": [
       "<div>\n",
       "<style scoped>\n",
       "    .dataframe tbody tr th:only-of-type {\n",
       "        vertical-align: middle;\n",
       "    }\n",
       "\n",
       "    .dataframe tbody tr th {\n",
       "        vertical-align: top;\n",
       "    }\n",
       "\n",
       "    .dataframe thead th {\n",
       "        text-align: right;\n",
       "    }\n",
       "</style>\n",
       "<table border=\"1\" class=\"dataframe\">\n",
       "  <thead>\n",
       "    <tr style=\"text-align: right;\">\n",
       "      <th></th>\n",
       "      <th>Common_name</th>\n",
       "      <th>Species</th>\n",
       "      <th>BE</th>\n",
       "      <th>BB</th>\n",
       "      <th>DE</th>\n",
       "      <th>GS</th>\n",
       "      <th>Vorzugshabitate</th>\n",
       "      <th>Gefährdungsursachen</th>\n",
       "    </tr>\n",
       "  </thead>\n",
       "  <tbody>\n",
       "    <tr>\n",
       "      <th>0</th>\n",
       "      <td>Mopsfledermaus</td>\n",
       "      <td>Barbastella barbastellus \\n(SCHREBER)</td>\n",
       "      <td>0</td>\n",
       "      <td>1</td>\n",
       "      <td>1</td>\n",
       "      <td>§§, II W, O</td>\n",
       "      <td></td>\n",
       "      <td>2c, 9, 14h</td>\n",
       "    </tr>\n",
       "    <tr>\n",
       "      <th>1</th>\n",
       "      <td>Hamster</td>\n",
       "      <td>Cricetus cricetus (LINNAEUS)</td>\n",
       "      <td>0</td>\n",
       "      <td>1</td>\n",
       "      <td>2</td>\n",
       "      <td>§§</td>\n",
       "      <td>L</td>\n",
       "      <td>1a, 6</td>\n",
       "    </tr>\n",
       "    <tr>\n",
       "      <th>2</th>\n",
       "      <td>Hausratte</td>\n",
       "      <td>Rattus rattus (LINNAEUS)</td>\n",
       "      <td>0</td>\n",
       "      <td>2</td>\n",
       "      <td>-</td>\n",
       "      <td></td>\n",
       "      <td>O</td>\n",
       "      <td>2c, 4d</td>\n",
       "    </tr>\n",
       "    <tr>\n",
       "      <th>3</th>\n",
       "      <td>Rothirsch*</td>\n",
       "      <td>Cervus elaphus LINNAEUS*</td>\n",
       "      <td>0</td>\n",
       "      <td>-</td>\n",
       "      <td></td>\n",
       "      <td></td>\n",
       "      <td>W</td>\n",
       "      <td>4d, 14b</td>\n",
       "    </tr>\n",
       "  </tbody>\n",
       "</table>\n",
       "</div>"
      ],
      "text/plain": [
       "      Common_name                                Species BE BB DE  \\\n",
       "0  Mopsfledermaus  Barbastella barbastellus \\n(SCHREBER)  0  1  1   \n",
       "1         Hamster           Cricetus cricetus (LINNAEUS)  0  1  2   \n",
       "2       Hausratte               Rattus rattus (LINNAEUS)  0  2  -   \n",
       "3      Rothirsch*               Cervus elaphus LINNAEUS*  0  -      \n",
       "\n",
       "            GS Vorzugshabitate Gefährdungsursachen  \n",
       "0  §§, II W, O                          2c, 9, 14h  \n",
       "1           §§               L               1a, 6  \n",
       "2                            O              2c, 4d  \n",
       "3                            W             4d, 14b  "
      ]
     },
     "execution_count": 16,
     "metadata": {},
     "output_type": "execute_result"
    }
   ],
   "source": [
    "# Definition of extinction\n",
    "df2 = df.loc[df[\"BE\"] == \"0\"]\n",
    "df2.reset_index(inplace = True)\n",
    "df2 = df2.drop(['index'], axis=1)\n",
    "df2.head()"
   ]
  },
  {
   "cell_type": "code",
   "execution_count": null,
   "id": "4a1d2c02-ffd3-4bf6-a764-e44b16658fc0",
   "metadata": {},
   "outputs": [],
   "source": [
    "#df3 = df.loc[df[\"Bestand\"] == \"ex\"]\n",
    "#df3.reset_index(inplace = True)\n",
    "#df3 = df3.drop(['index'], axis=1)\n",
    "#df3.head()"
   ]
  },
  {
   "cell_type": "code",
   "execution_count": 17,
   "id": "a238f8a8-ae9a-4e2d-9fac-6c9c32e203b7",
   "metadata": {},
   "outputs": [
    {
     "data": {
      "text/html": [
       "<div>\n",
       "<style scoped>\n",
       "    .dataframe tbody tr th:only-of-type {\n",
       "        vertical-align: middle;\n",
       "    }\n",
       "\n",
       "    .dataframe tbody tr th {\n",
       "        vertical-align: top;\n",
       "    }\n",
       "\n",
       "    .dataframe thead th {\n",
       "        text-align: right;\n",
       "    }\n",
       "</style>\n",
       "<table border=\"1\" class=\"dataframe\">\n",
       "  <thead>\n",
       "    <tr style=\"text-align: right;\">\n",
       "      <th></th>\n",
       "      <th>Common_name</th>\n",
       "      <th>Species</th>\n",
       "      <th>BE</th>\n",
       "      <th>BB</th>\n",
       "      <th>DE</th>\n",
       "      <th>GS</th>\n",
       "      <th>Vorzugshabitate</th>\n",
       "      <th>Gefährdungsursachen</th>\n",
       "    </tr>\n",
       "  </thead>\n",
       "  <tbody>\n",
       "    <tr>\n",
       "      <th>count</th>\n",
       "      <td>4</td>\n",
       "      <td>4</td>\n",
       "      <td>4</td>\n",
       "      <td>4</td>\n",
       "      <td>4</td>\n",
       "      <td>4</td>\n",
       "      <td>4</td>\n",
       "      <td>4</td>\n",
       "    </tr>\n",
       "    <tr>\n",
       "      <th>unique</th>\n",
       "      <td>4</td>\n",
       "      <td>4</td>\n",
       "      <td>1</td>\n",
       "      <td>3</td>\n",
       "      <td>4</td>\n",
       "      <td>3</td>\n",
       "      <td>4</td>\n",
       "      <td>4</td>\n",
       "    </tr>\n",
       "    <tr>\n",
       "      <th>top</th>\n",
       "      <td>Mopsfledermaus</td>\n",
       "      <td>Barbastella barbastellus \\n(SCHREBER)</td>\n",
       "      <td>0</td>\n",
       "      <td>1</td>\n",
       "      <td>1</td>\n",
       "      <td></td>\n",
       "      <td></td>\n",
       "      <td>2c, 9, 14h</td>\n",
       "    </tr>\n",
       "    <tr>\n",
       "      <th>freq</th>\n",
       "      <td>1</td>\n",
       "      <td>1</td>\n",
       "      <td>4</td>\n",
       "      <td>2</td>\n",
       "      <td>1</td>\n",
       "      <td>2</td>\n",
       "      <td>1</td>\n",
       "      <td>1</td>\n",
       "    </tr>\n",
       "  </tbody>\n",
       "</table>\n",
       "</div>"
      ],
      "text/plain": [
       "           Common_name                                Species BE BB DE GS  \\\n",
       "count                4                                      4  4  4  4  4   \n",
       "unique               4                                      4  1  3  4  3   \n",
       "top     Mopsfledermaus  Barbastella barbastellus \\n(SCHREBER)  0  1  1      \n",
       "freq                 1                                      1  4  2  1  2   \n",
       "\n",
       "       Vorzugshabitate Gefährdungsursachen  \n",
       "count                4                   4  \n",
       "unique               4                   4  \n",
       "top                             2c, 9, 14h  \n",
       "freq                 1                   1  "
      ]
     },
     "execution_count": 17,
     "metadata": {},
     "output_type": "execute_result"
    }
   ],
   "source": [
    "df2.describe()"
   ]
  },
  {
   "cell_type": "code",
   "execution_count": null,
   "id": "fc838514-790c-4c43-bade-5debda89199c",
   "metadata": {},
   "outputs": [],
   "source": [
    "#df3.describe()"
   ]
  },
  {
   "cell_type": "code",
   "execution_count": 18,
   "id": "14eda330-12b0-4641-959e-258e5695efdd",
   "metadata": {},
   "outputs": [],
   "source": [
    "# export the dataframe as CSV\n",
    "df2.to_csv('Mammalia.csv', index=False)"
   ]
  },
  {
   "cell_type": "code",
   "execution_count": null,
   "id": "90409eb6-1b82-4615-8483-08d09af31c7e",
   "metadata": {},
   "outputs": [],
   "source": []
  }
 ],
 "metadata": {
  "kernelspec": {
   "display_name": "Python 3 (ipykernel)",
   "language": "python",
   "name": "python3"
  },
  "language_info": {
   "codemirror_mode": {
    "name": "ipython",
    "version": 3
   },
   "file_extension": ".py",
   "mimetype": "text/x-python",
   "name": "python",
   "nbconvert_exporter": "python",
   "pygments_lexer": "ipython3",
   "version": "3.8.9"
  }
 },
 "nbformat": 4,
 "nbformat_minor": 5
}
