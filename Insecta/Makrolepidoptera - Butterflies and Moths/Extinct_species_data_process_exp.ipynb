{
 "cells": [
  {
   "cell_type": "code",
   "execution_count": 1,
   "id": "620ba740-c064-4863-a91a-67136ef7c3e3",
   "metadata": {},
   "outputs": [],
   "source": [
    "import camelot\n",
    "import pandas as pd"
   ]
  },
  {
   "cell_type": "markdown",
   "id": "fd9f4b39-74bc-4285-8fe3-c4c9db050994",
   "metadata": {
    "tags": []
   },
   "source": [
    "### 1. Read the pages with tables in stream format"
   ]
  },
  {
   "cell_type": "code",
   "execution_count": 18,
   "id": "b5013829-8b57-4185-8c8a-a9387773c471",
   "metadata": {},
   "outputs": [
    {
     "name": "stderr",
     "output_type": "stream",
     "text": [
      "/var/folders/sf/pjcpsvqj67b_pqmm82g4y8bm0000gq/T/ipykernel_3140/4188447454.py:9: UserWarning: Matplotlib is currently using module://matplotlib_inline.backend_inline, which is a non-GUI backend, so cannot show the figure.\n",
      "  camelot.plot(tables[0], kind='contour').show()\n"
     ]
    },
    {
     "data": {
      "image/png": "[encoded data removed]",
      "text/plain": [
       "<Figure size 640x480 with 1 Axes>"
      ]
     },
     "metadata": {},
     "output_type": "display_data"
    }
   ],
   "source": [
    "# Renamed the pdf to foo to make it easy (Dropping very long pdf name)\n",
    "# tables start in page 11 of this pdf\n",
    "# Using 'stream' as the table has colours as row seperators, a lot of white space and inconsistencies \n",
    "# in row height.\n",
    "\n",
    "tables = camelot.read_pdf('foo.pdf', pages='11', flavor='stream', edge_tol=500, row_tol=10)\n",
    "\n",
    "#display parsed area\n",
    "camelot.plot(tables[0], kind='contour').show()"
   ]
  },
  {
   "cell_type": "code",
   "execution_count": 19,
   "id": "ef44b5aa-effe-4adb-a127-58355a0de50e",
   "metadata": {},
   "outputs": [
    {
     "data": {
      "text/plain": [
       "<TableList n=1>"
      ]
     },
     "execution_count": 19,
     "metadata": {},
     "output_type": "execute_result"
    }
   ],
   "source": [
    "# The number of tables\n",
    "tables"
   ]
  },
  {
   "cell_type": "code",
   "execution_count": 20,
   "id": "6ecc208b-5219-4f7a-904e-31b1371afaac",
   "metadata": {},
   "outputs": [],
   "source": [
    "# Export multiple tables as foo.csv : Don't need to do this\n",
    "# tables.export('foo.csv', f='csv')"
   ]
  },
  {
   "cell_type": "code",
   "execution_count": 21,
   "id": "7e4d2eaf-7e17-4f0a-b93b-71d4c8f610e5",
   "metadata": {},
   "outputs": [
    {
     "data": {
      "text/plain": [
       "<Table shape=(24, 12)>"
      ]
     },
     "execution_count": 21,
     "metadata": {},
     "output_type": "execute_result"
    }
   ],
   "source": [
    "# Check out the shape of each table\n",
    "tables[0]"
   ]
  },
  {
   "cell_type": "code",
   "execution_count": 22,
   "id": "97d193c6-6f2f-48cf-a75c-1f9fcbc017c8",
   "metadata": {},
   "outputs": [
    {
     "data": {
      "text/plain": [
       "{'accuracy': 99.44, 'whitespace': 62.5, 'order': 1, 'page': 11}"
      ]
     },
     "execution_count": 22,
     "metadata": {},
     "output_type": "execute_result"
    }
   ],
   "source": [
    "# print the parsing report\n",
    "tables[0].parsing_report"
   ]
  },
  {
   "cell_type": "code",
   "execution_count": 23,
   "id": "a8ab4025-d99a-4a7f-aea6-e35a2fcf4b0a",
   "metadata": {},
   "outputs": [],
   "source": [
    "# Convert each table to separate csv files : Don't need to do this\n",
    "# tables[0].to_csv('foo.csv')"
   ]
  },
  {
   "cell_type": "markdown",
   "id": "99220a5e-7100-4d40-aaa4-b7c2f1a38824",
   "metadata": {
    "tags": []
   },
   "source": [
    "### 2. Assign table to dataframe : manual"
   ]
  },
  {
   "cell_type": "code",
   "execution_count": 24,
   "id": "5d5b368f-fd56-46dd-b84e-14018a69ab80",
   "metadata": {},
   "outputs": [
    {
     "data": {
      "text/html": [
       "<div>\n",
       "<style scoped>\n",
       "    .dataframe tbody tr th:only-of-type {\n",
       "        vertical-align: middle;\n",
       "    }\n",
       "\n",
       "    .dataframe tbody tr th {\n",
       "        vertical-align: top;\n",
       "    }\n",
       "\n",
       "    .dataframe thead th {\n",
       "        text-align: right;\n",
       "    }\n",
       "</style>\n",
       "<table border=\"1\" class=\"dataframe\">\n",
       "  <thead>\n",
       "    <tr style=\"text-align: right;\">\n",
       "      <th></th>\n",
       "      <th>0</th>\n",
       "      <th>1</th>\n",
       "      <th>2</th>\n",
       "      <th>3</th>\n",
       "      <th>4</th>\n",
       "      <th>5</th>\n",
       "      <th>6</th>\n",
       "      <th>7</th>\n",
       "      <th>8</th>\n",
       "      <th>9</th>\n",
       "      <th>10</th>\n",
       "      <th>11</th>\n",
       "    </tr>\n",
       "  </thead>\n",
       "  <tbody>\n",
       "    <tr>\n",
       "      <th>0</th>\n",
       "      <td>T</td>\n",
       "      <td>abelle 1: Rote Liste und Gesamtartenliste der ...</td>\n",
       "      <td></td>\n",
       "      <td></td>\n",
       "      <td></td>\n",
       "      <td></td>\n",
       "      <td></td>\n",
       "      <td></td>\n",
       "      <td></td>\n",
       "      <td></td>\n",
       "      <td></td>\n",
       "      <td></td>\n",
       "    </tr>\n",
       "    <tr>\n",
       "      <th>1</th>\n",
       "      <td></td>\n",
       "      <td>Wissenschaftlicher Name</td>\n",
       "      <td>BE</td>\n",
       "      <td>Bestand</td>\n",
       "      <td>vor</td>\n",
       "      <td>1990-</td>\n",
       "      <td>Trend</td>\n",
       "      <td>Habitat</td>\n",
       "      <td>D</td>\n",
       "      <td>BB</td>\n",
       "      <td>GS</td>\n",
       "      <td>K&amp;R \\nDeutscher Name</td>\n",
       "    </tr>\n",
       "    <tr>\n",
       "      <th>2</th>\n",
       "      <td></td>\n",
       "      <td></td>\n",
       "      <td></td>\n",
       "      <td></td>\n",
       "      <td>1990</td>\n",
       "      <td>2017</td>\n",
       "      <td>kurz</td>\n",
       "      <td></td>\n",
       "      <td></td>\n",
       "      <td></td>\n",
       "      <td></td>\n",
       "      <td></td>\n",
       "    </tr>\n",
       "    <tr>\n",
       "      <th>3</th>\n",
       "      <td></td>\n",
       "      <td>Hepialidae (Wurzelbohrer)</td>\n",
       "      <td></td>\n",
       "      <td></td>\n",
       "      <td></td>\n",
       "      <td></td>\n",
       "      <td></td>\n",
       "      <td></td>\n",
       "      <td></td>\n",
       "      <td></td>\n",
       "      <td></td>\n",
       "      <td></td>\n",
       "    </tr>\n",
       "    <tr>\n",
       "      <th>4</th>\n",
       "      <td></td>\n",
       "      <td>Triodia HÜBNER, 1820</td>\n",
       "      <td></td>\n",
       "      <td></td>\n",
       "      <td></td>\n",
       "      <td></td>\n",
       "      <td></td>\n",
       "      <td></td>\n",
       "      <td></td>\n",
       "      <td></td>\n",
       "      <td></td>\n",
       "      <td></td>\n",
       "    </tr>\n",
       "  </tbody>\n",
       "</table>\n",
       "</div>"
      ],
      "text/plain": [
       "  0                                                  1   2        3     4   \\\n",
       "0  T  abelle 1: Rote Liste und Gesamtartenliste der ...                      \n",
       "1                               Wissenschaftlicher Name  BE  Bestand   vor   \n",
       "2                                                                     1990   \n",
       "3                             Hepialidae (Wurzelbohrer)                      \n",
       "4                                  Triodia HÜBNER, 1820                      \n",
       "\n",
       "      5      6        7  8   9   10                    11  \n",
       "0                                                          \n",
       "1  1990-  Trend  Habitat  D  BB  GS  K&R \\nDeutscher Name  \n",
       "2   2017   kurz                                            \n",
       "3                                                          \n",
       "4                                                          "
      ]
     },
     "execution_count": 24,
     "metadata": {},
     "output_type": "execute_result"
    }
   ],
   "source": [
    "df_11 = tables[0].df\n",
    "df_11.head(5)"
   ]
  },
  {
   "cell_type": "code",
   "execution_count": 25,
   "id": "e8b7390d-d040-4fe7-a729-49fa0058af67",
   "metadata": {},
   "outputs": [
    {
     "name": "stdout",
     "output_type": "stream",
     "text": [
      "<class 'pandas.core.frame.DataFrame'>\n",
      "RangeIndex: 24 entries, 0 to 23\n",
      "Data columns (total 12 columns):\n",
      " #   Column  Non-Null Count  Dtype \n",
      "---  ------  --------------  ----- \n",
      " 0   0       24 non-null     object\n",
      " 1   1       24 non-null     object\n",
      " 2   2       24 non-null     object\n",
      " 3   3       24 non-null     object\n",
      " 4   4       24 non-null     object\n",
      " 5   5       24 non-null     object\n",
      " 6   6       24 non-null     object\n",
      " 7   7       24 non-null     object\n",
      " 8   8       24 non-null     object\n",
      " 9   9       24 non-null     object\n",
      " 10  10      24 non-null     object\n",
      " 11  11      24 non-null     object\n",
      "dtypes: object(12)\n",
      "memory usage: 2.4+ KB\n"
     ]
    }
   ],
   "source": [
    "df_11.info()"
   ]
  },
  {
   "cell_type": "markdown",
   "id": "c05c5501-5b11-4838-8248-c45f0fdf6c61",
   "metadata": {
    "tags": []
   },
   "source": [
    "# Data cleaning"
   ]
  },
  {
   "cell_type": "code",
   "execution_count": 26,
   "id": "85f3f1b0-c0ba-4f4a-a3e1-a2052ab7145e",
   "metadata": {},
   "outputs": [],
   "source": [
    "# Find all rows with ex as the value for col index 3\n",
    "ex_index = df_11[df_11.iloc[:,3] == \"ex\"].index"
   ]
  },
  {
   "cell_type": "code",
   "execution_count": 27,
   "id": "1d2189d0-21c0-4674-9440-fec1becd2103",
   "metadata": {},
   "outputs": [],
   "source": [
    "# Looking for rows that contain the Genus. This step dropped as the pattern to detect Genus is too \n",
    "# varied to have simple code. Genus added manually in Google sheets later.\n",
    "\n",
    "# Find one row before the rows with ex as the value for col index 3\n",
    "prev_index = df_11[df_11.iloc[:,3] == \"ex\"].index - 1"
   ]
  },
  {
   "cell_type": "code",
   "execution_count": 28,
   "id": "9a64e7cd-5be3-4727-a23b-ae4624953ff8",
   "metadata": {},
   "outputs": [
    {
     "data": {
      "text/html": [
       "<div>\n",
       "<style scoped>\n",
       "    .dataframe tbody tr th:only-of-type {\n",
       "        vertical-align: middle;\n",
       "    }\n",
       "\n",
       "    .dataframe tbody tr th {\n",
       "        vertical-align: top;\n",
       "    }\n",
       "\n",
       "    .dataframe thead th {\n",
       "        text-align: right;\n",
       "    }\n",
       "</style>\n",
       "<table border=\"1\" class=\"dataframe\">\n",
       "  <thead>\n",
       "    <tr style=\"text-align: right;\">\n",
       "      <th></th>\n",
       "      <th>0</th>\n",
       "      <th>1</th>\n",
       "      <th>2</th>\n",
       "      <th>3</th>\n",
       "      <th>4</th>\n",
       "      <th>5</th>\n",
       "      <th>6</th>\n",
       "      <th>7</th>\n",
       "      <th>8</th>\n",
       "      <th>9</th>\n",
       "      <th>10</th>\n",
       "      <th>11</th>\n",
       "    </tr>\n",
       "  </thead>\n",
       "  <tbody>\n",
       "    <tr>\n",
       "      <th>10</th>\n",
       "      <td></td>\n",
       "      <td>fusconebulosa (DEGEER, 1778)</td>\n",
       "      <td>0</td>\n",
       "      <td>ex</td>\n",
       "      <td>x 1973</td>\n",
       "      <td>–</td>\n",
       "      <td></td>\n",
       "      <td>LKW</td>\n",
       "      <td>V</td>\n",
       "      <td>⬤</td>\n",
       "      <td></td>\n",
       "      <td>00069  Adlerfarn-Wurzelbohrer</td>\n",
       "    </tr>\n",
       "    <tr>\n",
       "      <th>20</th>\n",
       "      <td></td>\n",
       "      <td>asella (DEN. &amp; SCHIFF., 1775)</td>\n",
       "      <td>0</td>\n",
       "      <td>ex</td>\n",
       "      <td>x 1978</td>\n",
       "      <td>–</td>\n",
       "      <td></td>\n",
       "      <td>LMW</td>\n",
       "      <td>V</td>\n",
       "      <td>⬤</td>\n",
       "      <td></td>\n",
       "      <td>03912 \\nKleiner Schneckenspinner</td>\n",
       "    </tr>\n",
       "  </tbody>\n",
       "</table>\n",
       "</div>"
      ],
      "text/plain": [
       "   0                              1  2   3       4  5  6    7  8  9  10  \\\n",
       "10      fusconebulosa (DEGEER, 1778)  0  ex  x 1973  –     LKW  V  ⬤      \n",
       "20     asella (DEN. & SCHIFF., 1775)  0  ex  x 1978  –     LMW  V  ⬤      \n",
       "\n",
       "                                  11  \n",
       "10     00069  Adlerfarn-Wurzelbohrer  \n",
       "20  03912 \\nKleiner Schneckenspinner  "
      ]
     },
     "execution_count": 28,
     "metadata": {},
     "output_type": "execute_result"
    }
   ],
   "source": [
    "#filter the dataframe using the two indices : Discontinued\n",
    "#df_11_new = df_11[(df_11.index.isin(ex_index))|(df_11.index.isin(prev_index))]\n",
    "\n",
    "#filter the dataframe using the indices for extinct rows\n",
    "df_11_new = df_11[df_11.index.isin(ex_index)]\n",
    "df_11_new"
   ]
  },
  {
   "cell_type": "code",
   "execution_count": 29,
   "id": "7a22725b-1396-447e-a68b-676db967a55e",
   "metadata": {},
   "outputs": [],
   "source": [
    "# The column to be dropped is defined by manually visually examining the dataframe\n",
    "# Might be able to automate later. \n",
    "\n",
    "#drop the 0th column\n",
    "df_11_new = df_11_new.drop([0], axis=1)\n",
    "df_11_new.reset_index(inplace = True, drop = True)"
   ]
  },
  {
   "cell_type": "code",
   "execution_count": 30,
   "id": "f5d93884-2ef0-4fc4-befc-daa34a072e7a",
   "metadata": {},
   "outputs": [
    {
     "data": {
      "text/html": [
       "<div>\n",
       "<style scoped>\n",
       "    .dataframe tbody tr th:only-of-type {\n",
       "        vertical-align: middle;\n",
       "    }\n",
       "\n",
       "    .dataframe tbody tr th {\n",
       "        vertical-align: top;\n",
       "    }\n",
       "\n",
       "    .dataframe thead th {\n",
       "        text-align: right;\n",
       "    }\n",
       "</style>\n",
       "<table border=\"1\" class=\"dataframe\">\n",
       "  <thead>\n",
       "    <tr style=\"text-align: right;\">\n",
       "      <th></th>\n",
       "      <th>1</th>\n",
       "      <th>2</th>\n",
       "      <th>3</th>\n",
       "      <th>4</th>\n",
       "      <th>5</th>\n",
       "      <th>6</th>\n",
       "      <th>7</th>\n",
       "      <th>8</th>\n",
       "      <th>9</th>\n",
       "      <th>10</th>\n",
       "      <th>11</th>\n",
       "    </tr>\n",
       "  </thead>\n",
       "  <tbody>\n",
       "    <tr>\n",
       "      <th>0</th>\n",
       "      <td>fusconebulosa (DEGEER, 1778)</td>\n",
       "      <td>0</td>\n",
       "      <td>ex</td>\n",
       "      <td>x 1973</td>\n",
       "      <td>–</td>\n",
       "      <td></td>\n",
       "      <td>LKW</td>\n",
       "      <td>V</td>\n",
       "      <td>⬤</td>\n",
       "      <td></td>\n",
       "      <td>00069  Adlerfarn-Wurzelbohrer</td>\n",
       "    </tr>\n",
       "    <tr>\n",
       "      <th>1</th>\n",
       "      <td>asella (DEN. &amp; SCHIFF., 1775)</td>\n",
       "      <td>0</td>\n",
       "      <td>ex</td>\n",
       "      <td>x 1978</td>\n",
       "      <td>–</td>\n",
       "      <td></td>\n",
       "      <td>LMW</td>\n",
       "      <td>V</td>\n",
       "      <td>⬤</td>\n",
       "      <td></td>\n",
       "      <td>03912 \\nKleiner Schneckenspinner</td>\n",
       "    </tr>\n",
       "  </tbody>\n",
       "</table>\n",
       "</div>"
      ],
      "text/plain": [
       "                              1  2   3       4  5  6    7  8  9  10  \\\n",
       "0   fusconebulosa (DEGEER, 1778)  0  ex  x 1973  –     LKW  V  ⬤      \n",
       "1  asella (DEN. & SCHIFF., 1775)  0  ex  x 1978  –     LMW  V  ⬤      \n",
       "\n",
       "                                 11  \n",
       "0     00069  Adlerfarn-Wurzelbohrer  \n",
       "1  03912 \\nKleiner Schneckenspinner  "
      ]
     },
     "execution_count": 30,
     "metadata": {},
     "output_type": "execute_result"
    }
   ],
   "source": [
    "df_11_new"
   ]
  },
  {
   "cell_type": "markdown",
   "id": "25e1d6ca-1f44-4970-9398-0acfd0a54c1d",
   "metadata": {
    "tags": []
   },
   "source": [
    "# Page 12"
   ]
  },
  {
   "cell_type": "code",
   "execution_count": 31,
   "id": "98aa4aeb-5f5a-4ea3-bde2-2d280fd73b66",
   "metadata": {},
   "outputs": [
    {
     "name": "stderr",
     "output_type": "stream",
     "text": [
      "/var/folders/sf/pjcpsvqj67b_pqmm82g4y8bm0000gq/T/ipykernel_3140/3550344357.py:2: UserWarning: Matplotlib is currently using module://matplotlib_inline.backend_inline, which is a non-GUI backend, so cannot show the figure.\n",
      "  camelot.plot(tables[0], kind='contour').show()\n"
     ]
    },
    {
     "data": {
      "image/png": "[encoded data removed]",
      "text/plain": [
       "<Figure size 640x480 with 1 Axes>"
      ]
     },
     "metadata": {},
     "output_type": "display_data"
    }
   ],
   "source": [
    "tables = camelot.read_pdf('foo.pdf', pages='12', flavor='stream', edge_tol=500, row_tol=10)\n",
    "camelot.plot(tables[0], kind='contour').show()"
   ]
  },
  {
   "cell_type": "code",
   "execution_count": 32,
   "id": "6e7605be-6002-495d-8b54-faf89b1c5365",
   "metadata": {},
   "outputs": [
    {
     "data": {
      "text/plain": [
       "<TableList n=1>"
      ]
     },
     "execution_count": 32,
     "metadata": {},
     "output_type": "execute_result"
    }
   ],
   "source": [
    "tables"
   ]
  },
  {
   "cell_type": "code",
   "execution_count": 33,
   "id": "fd27e2a3-1730-45b1-b1e6-a043122c4dc2",
   "metadata": {},
   "outputs": [
    {
     "data": {
      "text/plain": [
       "<Table shape=(25, 11)>"
      ]
     },
     "execution_count": 33,
     "metadata": {},
     "output_type": "execute_result"
    }
   ],
   "source": [
    "tables[0]"
   ]
  },
  {
   "cell_type": "code",
   "execution_count": 34,
   "id": "4ab90ab3-2791-4f08-8804-a331e98d9d86",
   "metadata": {},
   "outputs": [
    {
     "data": {
      "text/plain": [
       "{'accuracy': 99.61, 'whitespace': 44.36, 'order': 1, 'page': 12}"
      ]
     },
     "execution_count": 34,
     "metadata": {},
     "output_type": "execute_result"
    }
   ],
   "source": [
    "tables[0].parsing_report"
   ]
  },
  {
   "cell_type": "code",
   "execution_count": 35,
   "id": "b31ac1b3-0c1e-49ad-8066-681912f8c676",
   "metadata": {},
   "outputs": [
    {
     "data": {
      "text/html": [
       "<div>\n",
       "<style scoped>\n",
       "    .dataframe tbody tr th:only-of-type {\n",
       "        vertical-align: middle;\n",
       "    }\n",
       "\n",
       "    .dataframe tbody tr th {\n",
       "        vertical-align: top;\n",
       "    }\n",
       "\n",
       "    .dataframe thead th {\n",
       "        text-align: right;\n",
       "    }\n",
       "</style>\n",
       "<table border=\"1\" class=\"dataframe\">\n",
       "  <thead>\n",
       "    <tr style=\"text-align: right;\">\n",
       "      <th></th>\n",
       "      <th>0</th>\n",
       "      <th>1</th>\n",
       "      <th>2</th>\n",
       "      <th>3</th>\n",
       "      <th>4</th>\n",
       "      <th>5</th>\n",
       "      <th>6</th>\n",
       "      <th>7</th>\n",
       "      <th>8</th>\n",
       "      <th>9</th>\n",
       "      <th>10</th>\n",
       "    </tr>\n",
       "  </thead>\n",
       "  <tbody>\n",
       "    <tr>\n",
       "      <th>0</th>\n",
       "      <td></td>\n",
       "      <td>Märkische Ent. Nachr., Sonderheft 7, Rote List...</td>\n",
       "      <td></td>\n",
       "      <td></td>\n",
       "      <td></td>\n",
       "      <td></td>\n",
       "      <td></td>\n",
       "      <td></td>\n",
       "      <td></td>\n",
       "      <td></td>\n",
       "      <td>12</td>\n",
       "    </tr>\n",
       "    <tr>\n",
       "      <th>1</th>\n",
       "      <td>Wissenschaftlicher Name</td>\n",
       "      <td>BE</td>\n",
       "      <td>Bestand</td>\n",
       "      <td>vor</td>\n",
       "      <td>1990-</td>\n",
       "      <td>Trend</td>\n",
       "      <td>Habitat</td>\n",
       "      <td>D</td>\n",
       "      <td>BB</td>\n",
       "      <td>GS</td>\n",
       "      <td>K&amp;R \\nDeutscher Name</td>\n",
       "    </tr>\n",
       "    <tr>\n",
       "      <th>2</th>\n",
       "      <td></td>\n",
       "      <td></td>\n",
       "      <td></td>\n",
       "      <td>1990</td>\n",
       "      <td>2017</td>\n",
       "      <td>kurz</td>\n",
       "      <td></td>\n",
       "      <td></td>\n",
       "      <td></td>\n",
       "      <td></td>\n",
       "      <td></td>\n",
       "    </tr>\n",
       "    <tr>\n",
       "      <th>3</th>\n",
       "      <td>Adscita RETZIUS, 1783</td>\n",
       "      <td></td>\n",
       "      <td></td>\n",
       "      <td></td>\n",
       "      <td></td>\n",
       "      <td></td>\n",
       "      <td></td>\n",
       "      <td></td>\n",
       "      <td></td>\n",
       "      <td></td>\n",
       "      <td></td>\n",
       "    </tr>\n",
       "    <tr>\n",
       "      <th>4</th>\n",
       "      <td>statices (LINNAEUS, 1758)</td>\n",
       "      <td>2</td>\n",
       "      <td>l</td>\n",
       "      <td>x</td>\n",
       "      <td>x</td>\n",
       "      <td></td>\n",
       "      <td>TR</td>\n",
       "      <td>V</td>\n",
       "      <td>⬤</td>\n",
       "      <td>§</td>\n",
       "      <td>03956  Ampfer-Grünwidderchen</td>\n",
       "    </tr>\n",
       "  </tbody>\n",
       "</table>\n",
       "</div>"
      ],
      "text/plain": [
       "                          0   \\\n",
       "0                              \n",
       "1    Wissenschaftlicher Name   \n",
       "2                              \n",
       "3      Adscita RETZIUS, 1783   \n",
       "4  statices (LINNAEUS, 1758)   \n",
       "\n",
       "                                                  1        2     3      4   \\\n",
       "0  Märkische Ent. Nachr., Sonderheft 7, Rote List...                         \n",
       "1                                                 BE  Bestand   vor  1990-   \n",
       "2                                                              1990   2017   \n",
       "3                                                                            \n",
       "4                                                  2        l     x      x   \n",
       "\n",
       "      5        6  7   8   9                             10  \n",
       "0                                                       12  \n",
       "1  Trend  Habitat  D  BB  GS          K&R \\nDeutscher Name  \n",
       "2   kurz                                                    \n",
       "3                                                           \n",
       "4            TR  V   ⬤   §  03956  Ampfer-Grünwidderchen  "
      ]
     },
     "execution_count": 35,
     "metadata": {},
     "output_type": "execute_result"
    }
   ],
   "source": [
    "df_12 = tables[0].df\n",
    "df_12.head(5)"
   ]
  },
  {
   "cell_type": "code",
   "execution_count": 36,
   "id": "77f35825-901d-435b-865a-4b9b2a9aafd5",
   "metadata": {},
   "outputs": [],
   "source": [
    "# Find all rows with ex as the value for col index 3\n",
    "ex_index = df_12[df_12.iloc[:,2] == \"ex\"].index"
   ]
  },
  {
   "cell_type": "code",
   "execution_count": 37,
   "id": "d09839b2-77ca-465d-ae61-a4cf670d33bb",
   "metadata": {},
   "outputs": [],
   "source": [
    "# Find one row before the rows with ex as the value for col index 3\n",
    "# prev_index = df_12[df_12.iloc[:,2] == \"ex\"].index - 1"
   ]
  },
  {
   "cell_type": "code",
   "execution_count": 39,
   "id": "9d24f8c4-a5db-4d64-b4eb-c8480116b9a2",
   "metadata": {},
   "outputs": [
    {
     "data": {
      "text/html": [
       "<div>\n",
       "<style scoped>\n",
       "    .dataframe tbody tr th:only-of-type {\n",
       "        vertical-align: middle;\n",
       "    }\n",
       "\n",
       "    .dataframe tbody tr th {\n",
       "        vertical-align: top;\n",
       "    }\n",
       "\n",
       "    .dataframe thead th {\n",
       "        text-align: right;\n",
       "    }\n",
       "</style>\n",
       "<table border=\"1\" class=\"dataframe\">\n",
       "  <thead>\n",
       "    <tr style=\"text-align: right;\">\n",
       "      <th></th>\n",
       "      <th>0</th>\n",
       "      <th>1</th>\n",
       "      <th>2</th>\n",
       "      <th>3</th>\n",
       "      <th>4</th>\n",
       "      <th>5</th>\n",
       "      <th>6</th>\n",
       "      <th>7</th>\n",
       "      <th>8</th>\n",
       "      <th>9</th>\n",
       "      <th>10</th>\n",
       "    </tr>\n",
       "  </thead>\n",
       "  <tbody>\n",
       "    <tr>\n",
       "      <th>6</th>\n",
       "      <td>purpuralis (BRUENNICH, 1763)</td>\n",
       "      <td>0</td>\n",
       "      <td>ex</td>\n",
       "      <td>x</td>\n",
       "      <td>–</td>\n",
       "      <td></td>\n",
       "      <td>TR</td>\n",
       "      <td>V</td>\n",
       "      <td>⬤</td>\n",
       "      <td>§</td>\n",
       "      <td>03974 \\nThymian-Widderchen</td>\n",
       "    </tr>\n",
       "  </tbody>\n",
       "</table>\n",
       "</div>"
      ],
      "text/plain": [
       "                             0  1   2  3  4  5   6  7  8  9   \\\n",
       "6  purpuralis (BRUENNICH, 1763)  0  ex  x  –     TR  V  ⬤  §   \n",
       "\n",
       "                           10  \n",
       "6  03974 \\nThymian-Widderchen  "
      ]
     },
     "execution_count": 39,
     "metadata": {},
     "output_type": "execute_result"
    }
   ],
   "source": [
    "#filter the dataframe using the two indices\n",
    "df_12_new = df_12[df_12.index.isin(ex_index)]\n",
    "df_12_new"
   ]
  },
  {
   "cell_type": "markdown",
   "id": "e15dc675-4ac6-4ff7-b5bf-1ec842ca4a7d",
   "metadata": {
    "tags": []
   },
   "source": [
    "# Page 31"
   ]
  },
  {
   "cell_type": "code",
   "execution_count": 40,
   "id": "63f6b140-15f4-4e85-a9a8-03ea22968ac4",
   "metadata": {},
   "outputs": [
    {
     "name": "stderr",
     "output_type": "stream",
     "text": [
      "/var/folders/sf/pjcpsvqj67b_pqmm82g4y8bm0000gq/T/ipykernel_3140/3055487435.py:2: UserWarning: Matplotlib is currently using module://matplotlib_inline.backend_inline, which is a non-GUI backend, so cannot show the figure.\n",
      "  camelot.plot(tables[0], kind='contour').show()\n"
     ]
    },
    {
     "data": {
      "image/png": "[encoded data removed]",
      "text/plain": [
       "<Figure size 640x480 with 1 Axes>"
      ]
     },
     "metadata": {},
     "output_type": "display_data"
    }
   ],
   "source": [
    "tables = camelot.read_pdf('foo.pdf', pages='31', flavor='stream', edge_tol=500, row_tol=10)\n",
    "camelot.plot(tables[0], kind='contour').show()"
   ]
  },
  {
   "cell_type": "code",
   "execution_count": 41,
   "id": "ec20b9e0-18d9-4118-8cc1-46e95b0af3d3",
   "metadata": {},
   "outputs": [
    {
     "data": {
      "text/plain": [
       "<TableList n=1>"
      ]
     },
     "execution_count": 41,
     "metadata": {},
     "output_type": "execute_result"
    }
   ],
   "source": [
    "tables"
   ]
  },
  {
   "cell_type": "code",
   "execution_count": 42,
   "id": "c3c810de-2c08-4d5f-bf34-a0cec6435150",
   "metadata": {},
   "outputs": [
    {
     "data": {
      "text/plain": [
       "<Table shape=(26, 13)>"
      ]
     },
     "execution_count": 42,
     "metadata": {},
     "output_type": "execute_result"
    }
   ],
   "source": [
    "tables[0]"
   ]
  },
  {
   "cell_type": "code",
   "execution_count": 43,
   "id": "ac038c15-6261-4855-b0b0-36b825e4e231",
   "metadata": {},
   "outputs": [
    {
     "data": {
      "text/plain": [
       "{'accuracy': 99.46, 'whitespace': 49.11, 'order': 1, 'page': 31}"
      ]
     },
     "execution_count": 43,
     "metadata": {},
     "output_type": "execute_result"
    }
   ],
   "source": [
    "tables[0].parsing_report"
   ]
  },
  {
   "cell_type": "code",
   "execution_count": 44,
   "id": "b544f0fd-1d11-4e59-8452-65644b28a352",
   "metadata": {},
   "outputs": [
    {
     "data": {
      "text/html": [
       "<div>\n",
       "<style scoped>\n",
       "    .dataframe tbody tr th:only-of-type {\n",
       "        vertical-align: middle;\n",
       "    }\n",
       "\n",
       "    .dataframe tbody tr th {\n",
       "        vertical-align: top;\n",
       "    }\n",
       "\n",
       "    .dataframe thead th {\n",
       "        text-align: right;\n",
       "    }\n",
       "</style>\n",
       "<table border=\"1\" class=\"dataframe\">\n",
       "  <thead>\n",
       "    <tr style=\"text-align: right;\">\n",
       "      <th></th>\n",
       "      <th>0</th>\n",
       "      <th>1</th>\n",
       "      <th>2</th>\n",
       "      <th>3</th>\n",
       "      <th>4</th>\n",
       "      <th>5</th>\n",
       "      <th>6</th>\n",
       "      <th>7</th>\n",
       "      <th>8</th>\n",
       "      <th>9</th>\n",
       "      <th>10</th>\n",
       "      <th>11</th>\n",
       "      <th>12</th>\n",
       "    </tr>\n",
       "  </thead>\n",
       "  <tbody>\n",
       "    <tr>\n",
       "      <th>0</th>\n",
       "      <td></td>\n",
       "      <td>Märkische Ent. Nachr., Sonderheft 7, Rote List...</td>\n",
       "      <td></td>\n",
       "      <td></td>\n",
       "      <td></td>\n",
       "      <td></td>\n",
       "      <td></td>\n",
       "      <td></td>\n",
       "      <td></td>\n",
       "      <td></td>\n",
       "      <td></td>\n",
       "      <td></td>\n",
       "      <td>31</td>\n",
       "    </tr>\n",
       "    <tr>\n",
       "      <th>1</th>\n",
       "      <td></td>\n",
       "      <td>Wissenschaftlicher Name</td>\n",
       "      <td>BE</td>\n",
       "      <td>Bestand</td>\n",
       "      <td>vor</td>\n",
       "      <td>1990-</td>\n",
       "      <td>Trend</td>\n",
       "      <td>Habitat</td>\n",
       "      <td>D</td>\n",
       "      <td>BB</td>\n",
       "      <td>GS</td>\n",
       "      <td>K&amp;R</td>\n",
       "      <td>Deutscher Name</td>\n",
       "    </tr>\n",
       "    <tr>\n",
       "      <th>2</th>\n",
       "      <td></td>\n",
       "      <td></td>\n",
       "      <td></td>\n",
       "      <td></td>\n",
       "      <td>1990</td>\n",
       "      <td>2017</td>\n",
       "      <td>kurz</td>\n",
       "      <td></td>\n",
       "      <td></td>\n",
       "      <td></td>\n",
       "      <td></td>\n",
       "      <td></td>\n",
       "      <td></td>\n",
       "    </tr>\n",
       "    <tr>\n",
       "      <th>3</th>\n",
       "      <td></td>\n",
       "      <td>decorata (DEN. &amp; SCHIFF., 1775)</td>\n",
       "      <td>0</td>\n",
       "      <td>ex</td>\n",
       "      <td>x 1900</td>\n",
       "      <td>–</td>\n",
       "      <td></td>\n",
       "      <td>TR</td>\n",
       "      <td>3</td>\n",
       "      <td>⬤</td>\n",
       "      <td>§§</td>\n",
       "      <td>08051</td>\n",
       "      <td>Sandthymian-Kleinspanner</td>\n",
       "    </tr>\n",
       "    <tr>\n",
       "      <th>4</th>\n",
       "      <td></td>\n",
       "      <td>rubiginata (HUFNAGEL, 1767)</td>\n",
       "      <td>*</td>\n",
       "      <td>v</td>\n",
       "      <td>x</td>\n",
       "      <td>x</td>\n",
       "      <td>?</td>\n",
       "      <td>TR</td>\n",
       "      <td>V</td>\n",
       "      <td>⬤</td>\n",
       "      <td></td>\n",
       "      <td>08054</td>\n",
       "      <td>Violetter Kleinspanner</td>\n",
       "    </tr>\n",
       "  </tbody>\n",
       "</table>\n",
       "</div>"
      ],
      "text/plain": [
       "  0                                                  1   2        3       4   \\\n",
       "0     Märkische Ent. Nachr., Sonderheft 7, Rote List...                        \n",
       "1                               Wissenschaftlicher Name  BE  Bestand     vor   \n",
       "2                                                                       1990   \n",
       "3                       decorata (DEN. & SCHIFF., 1775)   0       ex  x 1900   \n",
       "4                           rubiginata (HUFNAGEL, 1767)   *        v       x   \n",
       "\n",
       "      5      6        7  8   9   10     11                        12  \n",
       "0                                                                 31  \n",
       "1  1990-  Trend  Habitat  D  BB  GS    K&R            Deutscher Name  \n",
       "2   2017   kurz                                                       \n",
       "3      –              TR  3   ⬤  §§  08051  Sandthymian-Kleinspanner  \n",
       "4      x      ?       TR  V   ⬤      08054    Violetter Kleinspanner  "
      ]
     },
     "execution_count": 44,
     "metadata": {},
     "output_type": "execute_result"
    }
   ],
   "source": [
    "df_31 = tables[0].df\n",
    "df_31.head(5)"
   ]
  },
  {
   "cell_type": "code",
   "execution_count": 45,
   "id": "f1fe9a8c-f3fa-403e-900e-7aa145ead209",
   "metadata": {},
   "outputs": [
    {
     "data": {
      "text/html": [
       "<div>\n",
       "<style scoped>\n",
       "    .dataframe tbody tr th:only-of-type {\n",
       "        vertical-align: middle;\n",
       "    }\n",
       "\n",
       "    .dataframe tbody tr th {\n",
       "        vertical-align: top;\n",
       "    }\n",
       "\n",
       "    .dataframe thead th {\n",
       "        text-align: right;\n",
       "    }\n",
       "</style>\n",
       "<table border=\"1\" class=\"dataframe\">\n",
       "  <thead>\n",
       "    <tr style=\"text-align: right;\">\n",
       "      <th></th>\n",
       "      <th>0</th>\n",
       "      <th>1</th>\n",
       "      <th>2</th>\n",
       "      <th>3</th>\n",
       "      <th>4</th>\n",
       "      <th>5</th>\n",
       "      <th>6</th>\n",
       "      <th>7</th>\n",
       "      <th>8</th>\n",
       "      <th>9</th>\n",
       "      <th>10</th>\n",
       "      <th>11</th>\n",
       "      <th>12</th>\n",
       "    </tr>\n",
       "  </thead>\n",
       "  <tbody>\n",
       "    <tr>\n",
       "      <th>3</th>\n",
       "      <td></td>\n",
       "      <td>decorata (DEN. &amp; SCHIFF., 1775)</td>\n",
       "      <td>0</td>\n",
       "      <td>ex</td>\n",
       "      <td>x 1900</td>\n",
       "      <td>–</td>\n",
       "      <td></td>\n",
       "      <td>TR</td>\n",
       "      <td>3</td>\n",
       "      <td>⬤</td>\n",
       "      <td>§§</td>\n",
       "      <td>08051</td>\n",
       "      <td>Sandthymian-Kleinspanner</td>\n",
       "    </tr>\n",
       "    <tr>\n",
       "      <th>12</th>\n",
       "      <td></td>\n",
       "      <td>v\\ni\\nb\\ni\\ncaria (CLERCK, 1759)</td>\n",
       "      <td>0</td>\n",
       "      <td>ex</td>\n",
       "      <td>x 1986</td>\n",
       "      <td>–</td>\n",
       "      <td></td>\n",
       "      <td>CH</td>\n",
       "      <td>V</td>\n",
       "      <td>⬤</td>\n",
       "      <td></td>\n",
       "      <td>08205</td>\n",
       "      <td>Rotbandspanner</td>\n",
       "    </tr>\n",
       "  </tbody>\n",
       "</table>\n",
       "</div>"
      ],
      "text/plain": [
       "   0                                 1  2   3       4  5  6   7  8  9   10  \\\n",
       "3       decorata (DEN. & SCHIFF., 1775)  0  ex  x 1900  –     TR  3  ⬤  §§   \n",
       "12     v\\ni\\nb\\ni\\ncaria (CLERCK, 1759)  0  ex  x 1986  –     CH  V  ⬤       \n",
       "\n",
       "       11                        12  \n",
       "3   08051  Sandthymian-Kleinspanner  \n",
       "12  08205            Rotbandspanner  "
      ]
     },
     "execution_count": 45,
     "metadata": {},
     "output_type": "execute_result"
    }
   ],
   "source": [
    "# Find all rows with ex as the value for col index 3\n",
    "ex_index = df_31[df_31.iloc[:,3] == \"ex\"].index\n",
    "# Find one row before the rows with ex as the value for col index 3\n",
    "#prev_index = df_31[df_31.iloc[:,3] == \"ex\"].index - 1\n",
    "\n",
    "#filter the dataframe using the ex index\n",
    "df_31_new = df_31[(df_31.index.isin(ex_index))]#|(df_31.index.isin(prev_index))]\n",
    "df_31_new"
   ]
  },
  {
   "cell_type": "markdown",
   "id": "8cd41021-145b-4d55-af7d-5314e0a0b5ad",
   "metadata": {
    "tags": []
   },
   "source": [
    "# Looping through first 10 pages from pg 11 onwards"
   ]
  },
  {
   "cell_type": "code",
   "execution_count": 46,
   "id": "81199f90-e47a-4c2b-a87e-b746ccb45a99",
   "metadata": {},
   "outputs": [
    {
     "name": "stdout",
     "output_type": "stream",
     "text": [
      "(2, 11)\n",
      "Done\n",
      "Complete\n"
     ]
    }
   ],
   "source": [
    "# testing the entire process for just one page \n",
    "\n",
    "#read the page\n",
    "tables = camelot.read_pdf('foo.pdf', pages= '11', flavor='stream', edge_tol=500, row_tol=10)\n",
    "#assign the first table to a dataframe\n",
    "df = tables[0].df\n",
    "#check for rows with \"ex\" column 2 and get a list of indices for those rows\n",
    "if len(df.columns) >= 10:\n",
    "    ex_index = df[(df.iloc[:,2] == \"ex\") | (df.iloc[:,3] == \"ex\") ].index\n",
    "    # if the index is in the ex_index add it to/ keep in the the dataframe\n",
    "    if len(df.columns) == 12:\n",
    "        df = df.drop([0], axis=1)\n",
    "    df = df[(df.index.isin(ex_index))]\n",
    "    print(df.shape)\n",
    "    print (\"Done\")"
   ]
  },
  {
   "cell_type": "code",
   "execution_count": 135,
   "id": "ec6afbbe-5004-4523-b9bc-69a56a75f342",
   "metadata": {},
   "outputs": [
    {
     "data": {
      "text/html": [
       "<div>\n",
       "<style scoped>\n",
       "    .dataframe tbody tr th:only-of-type {\n",
       "        vertical-align: middle;\n",
       "    }\n",
       "\n",
       "    .dataframe tbody tr th {\n",
       "        vertical-align: top;\n",
       "    }\n",
       "\n",
       "    .dataframe thead th {\n",
       "        text-align: right;\n",
       "    }\n",
       "</style>\n",
       "<table border=\"1\" class=\"dataframe\">\n",
       "  <thead>\n",
       "    <tr style=\"text-align: right;\">\n",
       "      <th></th>\n",
       "      <th>1</th>\n",
       "      <th>2</th>\n",
       "      <th>3</th>\n",
       "      <th>4</th>\n",
       "      <th>5</th>\n",
       "      <th>6</th>\n",
       "      <th>7</th>\n",
       "      <th>8</th>\n",
       "      <th>9</th>\n",
       "      <th>10</th>\n",
       "      <th>11</th>\n",
       "    </tr>\n",
       "  </thead>\n",
       "  <tbody>\n",
       "    <tr>\n",
       "      <th>10</th>\n",
       "      <td>fusconebulosa (DEGEER, 1778)</td>\n",
       "      <td>0</td>\n",
       "      <td>ex</td>\n",
       "      <td>x 1973</td>\n",
       "      <td>–</td>\n",
       "      <td></td>\n",
       "      <td>LKW</td>\n",
       "      <td>V</td>\n",
       "      <td>⬤</td>\n",
       "      <td></td>\n",
       "      <td>00069  Adlerfarn-Wurzelbohrer</td>\n",
       "    </tr>\n",
       "    <tr>\n",
       "      <th>20</th>\n",
       "      <td>asella (DEN. &amp; SCHIFF., 1775)</td>\n",
       "      <td>0</td>\n",
       "      <td>ex</td>\n",
       "      <td>x 1978</td>\n",
       "      <td>–</td>\n",
       "      <td></td>\n",
       "      <td>LMW</td>\n",
       "      <td>V</td>\n",
       "      <td>⬤</td>\n",
       "      <td></td>\n",
       "      <td>03912 \\nKleiner Schneckenspinner</td>\n",
       "    </tr>\n",
       "  </tbody>\n",
       "</table>\n",
       "</div>"
      ],
      "text/plain": [
       "                               1  2   3       4  5  6    7  8  9  10  \\\n",
       "10   fusconebulosa (DEGEER, 1778)  0  ex  x 1973  –     LKW  V  ⬤      \n",
       "20  asella (DEN. & SCHIFF., 1775)  0  ex  x 1978  –     LMW  V  ⬤      \n",
       "\n",
       "                                  11  \n",
       "10     00069  Adlerfarn-Wurzelbohrer  \n",
       "20  03912 \\nKleiner Schneckenspinner  "
      ]
     },
     "execution_count": 135,
     "metadata": {},
     "output_type": "execute_result"
    }
   ],
   "source": [
    "df.head(10)"
   ]
  },
  {
   "cell_type": "code",
   "execution_count": 136,
   "id": "7ce73a45-5303-43fb-9771-f4799b9c6241",
   "metadata": {},
   "outputs": [
    {
     "data": {
      "text/plain": [
       "11"
      ]
     },
     "execution_count": 136,
     "metadata": {},
     "output_type": "execute_result"
    }
   ],
   "source": [
    "len(df.columns)"
   ]
  },
  {
   "cell_type": "code",
   "execution_count": 137,
   "id": "8a37d412-4741-4031-a90e-f7c10d556790",
   "metadata": {},
   "outputs": [],
   "source": [
    "# Trying to solve the column name dillemma due to dropping columns\n",
    "df.rename(columns={1: 0,\n",
    "                   2: 1,\n",
    "                   3: 2,\n",
    "                   4: 3,\n",
    "                   5: 4,\n",
    "                   6: 5,\n",
    "                   7: 6,\n",
    "                   8: 7,\n",
    "                   9: 8,\n",
    "                   10: 9,\n",
    "                   11: 10,\n",
    "                  }, inplace = True)"
   ]
  },
  {
   "cell_type": "code",
   "execution_count": 138,
   "id": "46cb703c-e7a3-410b-b7e2-5ec3cac8ca68",
   "metadata": {},
   "outputs": [
    {
     "data": {
      "text/html": [
       "<div>\n",
       "<style scoped>\n",
       "    .dataframe tbody tr th:only-of-type {\n",
       "        vertical-align: middle;\n",
       "    }\n",
       "\n",
       "    .dataframe tbody tr th {\n",
       "        vertical-align: top;\n",
       "    }\n",
       "\n",
       "    .dataframe thead th {\n",
       "        text-align: right;\n",
       "    }\n",
       "</style>\n",
       "<table border=\"1\" class=\"dataframe\">\n",
       "  <thead>\n",
       "    <tr style=\"text-align: right;\">\n",
       "      <th></th>\n",
       "      <th>0</th>\n",
       "      <th>1</th>\n",
       "      <th>2</th>\n",
       "      <th>3</th>\n",
       "      <th>4</th>\n",
       "      <th>5</th>\n",
       "      <th>6</th>\n",
       "      <th>7</th>\n",
       "      <th>8</th>\n",
       "      <th>9</th>\n",
       "      <th>10</th>\n",
       "    </tr>\n",
       "  </thead>\n",
       "  <tbody>\n",
       "    <tr>\n",
       "      <th>10</th>\n",
       "      <td>fusconebulosa (DEGEER, 1778)</td>\n",
       "      <td>0</td>\n",
       "      <td>ex</td>\n",
       "      <td>x 1973</td>\n",
       "      <td>–</td>\n",
       "      <td></td>\n",
       "      <td>LKW</td>\n",
       "      <td>V</td>\n",
       "      <td>⬤</td>\n",
       "      <td></td>\n",
       "      <td>00069  Adlerfarn-Wurzelbohrer</td>\n",
       "    </tr>\n",
       "    <tr>\n",
       "      <th>20</th>\n",
       "      <td>asella (DEN. &amp; SCHIFF., 1775)</td>\n",
       "      <td>0</td>\n",
       "      <td>ex</td>\n",
       "      <td>x 1978</td>\n",
       "      <td>–</td>\n",
       "      <td></td>\n",
       "      <td>LMW</td>\n",
       "      <td>V</td>\n",
       "      <td>⬤</td>\n",
       "      <td></td>\n",
       "      <td>03912 \\nKleiner Schneckenspinner</td>\n",
       "    </tr>\n",
       "  </tbody>\n",
       "</table>\n",
       "</div>"
      ],
      "text/plain": [
       "                               0  1   2       3  4  5    6  7  8  9   \\\n",
       "10   fusconebulosa (DEGEER, 1778)  0  ex  x 1973  –     LKW  V  ⬤      \n",
       "20  asella (DEN. & SCHIFF., 1775)  0  ex  x 1978  –     LMW  V  ⬤      \n",
       "\n",
       "                                  10  \n",
       "10     00069  Adlerfarn-Wurzelbohrer  \n",
       "20  03912 \\nKleiner Schneckenspinner  "
      ]
     },
     "execution_count": 138,
     "metadata": {},
     "output_type": "execute_result"
    }
   ],
   "source": [
    "df.head(10)"
   ]
  },
  {
   "cell_type": "markdown",
   "id": "5df01434-db98-4059-a960-1b0fc92aeb74",
   "metadata": {},
   "source": [
    "# Updated Process"
   ]
  },
  {
   "cell_type": "markdown",
   "id": "a154dee1-1812-4d0c-952a-038784a62b69",
   "metadata": {
    "tags": []
   },
   "source": [
    "## 1. Create empty dataframe with proper column names"
   ]
  },
  {
   "cell_type": "code",
   "execution_count": null,
   "id": "7bc3aae2-2450-4c75-b76c-ce0b5372fd61",
   "metadata": {},
   "outputs": [],
   "source": [
    "# This is where data will be added after cleaning. The final dataframe for export"
   ]
  },
  {
   "cell_type": "code",
   "execution_count": 47,
   "id": "34bffb55-bd0f-426b-90ba-a77f9379d5cd",
   "metadata": {},
   "outputs": [
    {
     "data": {
      "text/html": [
       "<div>\n",
       "<style scoped>\n",
       "    .dataframe tbody tr th:only-of-type {\n",
       "        vertical-align: middle;\n",
       "    }\n",
       "\n",
       "    .dataframe tbody tr th {\n",
       "        vertical-align: top;\n",
       "    }\n",
       "\n",
       "    .dataframe thead th {\n",
       "        text-align: right;\n",
       "    }\n",
       "</style>\n",
       "<table border=\"1\" class=\"dataframe\">\n",
       "  <thead>\n",
       "    <tr style=\"text-align: right;\">\n",
       "      <th></th>\n",
       "      <th>Species</th>\n",
       "      <th>BE</th>\n",
       "      <th>Bestand</th>\n",
       "      <th>Vor_1990</th>\n",
       "      <th>1990_2017</th>\n",
       "      <th>Trend_kurz</th>\n",
       "      <th>Habitat</th>\n",
       "      <th>D</th>\n",
       "      <th>BB</th>\n",
       "      <th>GS</th>\n",
       "      <th>Common_name</th>\n",
       "    </tr>\n",
       "  </thead>\n",
       "  <tbody>\n",
       "  </tbody>\n",
       "</table>\n",
       "</div>"
      ],
      "text/plain": [
       "Empty DataFrame\n",
       "Columns: [Species, BE, Bestand, Vor_1990, 1990_2017, Trend_kurz, Habitat, D, BB, GS, Common_name]\n",
       "Index: []"
      ]
     },
     "execution_count": 47,
     "metadata": {},
     "output_type": "execute_result"
    }
   ],
   "source": [
    "df = pd.DataFrame(columns = [\n",
    "    \"Species\",\n",
    "    \"BE\", \n",
    "    \"Bestand\", \n",
    "    \"Vor_1990\", \n",
    "    \"1990_2017\",\n",
    "    \"Trend_kurz\",\n",
    "    \"Habitat\",\n",
    "    \"D\",\n",
    "    \"BB\",\n",
    "    \"GS\",\n",
    "    \"Common_name\"\n",
    "])\n",
    "df"
   ]
  },
  {
   "cell_type": "code",
   "execution_count": 48,
   "id": "47f97437-2eef-4c9b-8deb-d1e2f84793ad",
   "metadata": {},
   "outputs": [
    {
     "data": {
      "text/plain": [
       "(0, 11)"
      ]
     },
     "execution_count": 48,
     "metadata": {},
     "output_type": "execute_result"
    }
   ],
   "source": [
    "df.shape"
   ]
  },
  {
   "cell_type": "markdown",
   "id": "5603d676-871d-4ea0-a427-ff51d1b2a331",
   "metadata": {},
   "source": [
    "## 2. Setup mechanism to store accuracy report : QA step"
   ]
  },
  {
   "cell_type": "code",
   "execution_count": 50,
   "id": "946990cf-3a79-4a65-aaa1-c4f179995d67",
   "metadata": {},
   "outputs": [],
   "source": [
    "accuracy = []"
   ]
  },
  {
   "cell_type": "markdown",
   "id": "ee9ae4b1-5ed3-4c80-a0ed-948dbe574bfc",
   "metadata": {},
   "source": [
    "## 3. Dictionary of dataframes on the go"
   ]
  },
  {
   "cell_type": "code",
   "execution_count": null,
   "id": "b2c7ed2b-b619-4a75-b052-12c8adb562cb",
   "metadata": {},
   "outputs": [],
   "source": [
    "# Dictionary to collect dataframes created from each table\n",
    "d = {}"
   ]
  },
  {
   "cell_type": "markdown",
   "id": "09ced9f2-acca-4c75-a113-0c06281a93cf",
   "metadata": {},
   "source": [
    "## 4. Adding the list of pages to be parsed"
   ]
  },
  {
   "cell_type": "code",
   "execution_count": null,
   "id": "c7bd13c5-208e-4997-9366-2d4a2b43a355",
   "metadata": {},
   "outputs": [],
   "source": [
    "pages = []\n",
    "i = 11\n",
    "while i < 89:\n",
    "    pages.append(i)\n",
    "    i = i + 1\n",
    "print(pages)"
   ]
  },
  {
   "cell_type": "markdown",
   "id": "e842252d-a796-45fb-b0cc-6a727f2a7bf7",
   "metadata": {},
   "source": [
    "## 5. Parsing through the pages"
   ]
  },
  {
   "cell_type": "code",
   "execution_count": null,
   "id": "712128aa-f576-47fe-be80-4f5019d26b25",
   "metadata": {},
   "outputs": [],
   "source": [
    "for i in pages:\n",
    "    # print page number\n",
    "    print (i)\n",
    "    # create dataframe with page number\n",
    "    d[i] = pd.DataFrame()\n",
    "    #read the page\n",
    "    tables = camelot.read_pdf('foo.pdf', pages= str(i), flavor='stream', edge_tol=1000, row_tol=10)\n",
    "    # add the accuracy report\n",
    "    accuracy.append(tables[0].parsing_report)\n",
    "    # assign the first table to a dataframe\n",
    "    d[i] = tables[0].df\n",
    "    # check for rows with \"ex\" column 2 and get a list of indices for those rows\n",
    "    ex_index = d[i][(d[i].iloc[:,2] == \"ex\") | (d[i].iloc[:,3] == \"ex\") ].index\n",
    "    # only keep the rows if the index is in the ex_index\n",
    "    d[i] = d[i][(d[i].index.isin(ex_index))]\n",
    "    # print the shape of the dataframe \n",
    "    # (check whether there are enough columns, if not change page reading parameters\n",
    "    print(d[i].shape)\n",
    "# Print Done once all pages are parsed\n",
    "print (\"Done\")"
   ]
  },
  {
   "cell_type": "code",
   "execution_count": null,
   "id": "2f528b80-4a01-4eb4-9e53-43796ff224b4",
   "metadata": {},
   "outputs": [],
   "source": [
    "# Check accuracy reports for the process\n",
    "accuracy"
   ]
  },
  {
   "cell_type": "markdown",
   "id": "db574ad8-2c03-45ce-b016-28f12fc1d8d7",
   "metadata": {},
   "source": [
    "# Data cleanup steps"
   ]
  },
  {
   "cell_type": "raw",
   "id": "827959ab-12d0-4ea2-a41f-da7480ffbb91",
   "metadata": {},
   "source": [
    "d[67]       \n",
    "    : Look at the data frame extracted from 67th page\n",
    "d[67].shape \n",
    "    : Look at the shape of the dataframe\n",
    "d[68] = d[68].drop([12], axis=1)\n",
    "    : Drop the 12th column in place\n",
    "d[68][10] = d[68][[10, 11]].agg(' '.join, axis=1)\n",
    "    : Join 10th and 11th columns with a space in between\n",
    "d[69][[9,11]] = d[69][9].str.split('\\n', expand=True)\n",
    "    : Split 9th Column at the '\\n' sign and add a new column called 11\n",
    "column_to_move = d[69].pop(11)\n",
    "column_to_move\n",
    "d[69].insert(9, 11, column_to_move )\n",
    "    : Pop column 11 and insert it at column 9\n",
    "d[75].insert(9, '10', [\"\",\"\"])\n",
    "    : Insert two rows of column 10 after 9 with empty cells"
   ]
  },
  {
   "cell_type": "code",
   "execution_count": null,
   "id": "565bcabf-5b9e-4f04-bf5b-231a56802061",
   "metadata": {},
   "outputs": [],
   "source": [
    "# Check whether all dataframes are of the same size\n",
    "for key in d:\n",
    "    print(key)\n",
    "    print(d[key].shape)"
   ]
  },
  {
   "cell_type": "code",
   "execution_count": null,
   "id": "259d931e-07a9-42a1-b92b-4ec85c5777a6",
   "metadata": {},
   "outputs": [],
   "source": [
    "# Removing empty dataframes\n",
    "# del d[64]\n",
    "# del d[74]"
   ]
  },
  {
   "cell_type": "code",
   "execution_count": null,
   "id": "7d240c16-c939-4ce2-bc90-bdcfc52fe84c",
   "metadata": {},
   "outputs": [],
   "source": [
    "# Creates a sorted dictionary (sorted by key)\n",
    "from collections import OrderedDict\n",
    "d2 = OrderedDict(sorted(d.items()))"
   ]
  },
  {
   "cell_type": "code",
   "execution_count": null,
   "id": "65c02a66-f14e-442d-a521-0c518f27c4a4",
   "metadata": {},
   "outputs": [],
   "source": [
    "# Check whether the dictionary is sorted\n",
    "for key in d2:\n",
    "    print(key)"
   ]
  },
  {
   "cell_type": "code",
   "execution_count": null,
   "id": "73e281ce-f58d-4991-9c1c-3b04638ceb0b",
   "metadata": {},
   "outputs": [],
   "source": [
    "# Rename all the dataframes in the sorted dictionary\n",
    "for key in d2:\n",
    "    print(key)\n",
    "    d2[key].columns = [ \"Species\",\n",
    "    \"BE\", \n",
    "    \"Bestand\", \n",
    "    \"Vor_1990\", \n",
    "    \"1990_2017\",\n",
    "    \"Trend_kurz\",\n",
    "    \"Habitat\",\n",
    "    \"D\",\n",
    "    \"BB\",\n",
    "    \"GS\",\n",
    "    \"Common_name\"]\n",
    "print(\"Rename completed for concat\")"
   ]
  },
  {
   "cell_type": "code",
   "execution_count": null,
   "id": "b7e6983e-7c81-4852-9268-0dc9c1c98636",
   "metadata": {},
   "outputs": [],
   "source": [
    "# Concatanate all the non-empty dataframes in the sorted dictionary into the empty df\n",
    "for key in d2:\n",
    "    df = pd.concat([df, d2[key]], axis = 0)\n",
    "df"
   ]
  },
  {
   "cell_type": "code",
   "execution_count": null,
   "id": "14eda330-12b0-4641-959e-258e5695efdd",
   "metadata": {},
   "outputs": [],
   "source": [
    "# export the dataframe as CSV\n",
    "df.to_csv('df.csv')"
   ]
  }
 ],
 "metadata": {
  "kernelspec": {
   "display_name": "Python 3 (ipykernel)",
   "language": "python",
   "name": "python3"
  },
  "language_info": {
   "codemirror_mode": {
    "name": "ipython",
    "version": 3
   },
   "file_extension": ".py",
   "mimetype": "text/x-python",
   "name": "python",
   "nbconvert_exporter": "python",
   "pygments_lexer": "ipython3",
   "version": "3.8.9"
  }
 },
 "nbformat": 4,
 "nbformat_minor": 5
}
