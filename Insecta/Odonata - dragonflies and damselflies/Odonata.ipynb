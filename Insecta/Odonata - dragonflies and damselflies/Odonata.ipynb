{
 "cells": [
  {
   "cell_type": "code",
   "execution_count": 1,
   "id": "620ba740-c064-4863-a91a-67136ef7c3e3",
   "metadata": {},
   "outputs": [],
   "source": [
    "import camelot\n",
    "import pandas as pd"
   ]
  },
  {
   "cell_type": "markdown",
   "id": "5df01434-db98-4059-a960-1b0fc92aeb74",
   "metadata": {},
   "source": [
    "# Updated Process"
   ]
  },
  {
   "cell_type": "markdown",
   "id": "a154dee1-1812-4d0c-952a-038784a62b69",
   "metadata": {
    "tags": []
   },
   "source": [
    "## 1. Create empty dataframe with proper column names"
   ]
  },
  {
   "cell_type": "code",
   "execution_count": 2,
   "id": "7bc3aae2-2450-4c75-b76c-ce0b5372fd61",
   "metadata": {},
   "outputs": [],
   "source": [
    "# This is where data will be added after cleaning. The final dataframe for export"
   ]
  },
  {
   "cell_type": "code",
   "execution_count": 3,
   "id": "34bffb55-bd0f-426b-90ba-a77f9379d5cd",
   "metadata": {},
   "outputs": [
    {
     "data": {
      "text/html": [
       "<div>\n",
       "<style scoped>\n",
       "    .dataframe tbody tr th:only-of-type {\n",
       "        vertical-align: middle;\n",
       "    }\n",
       "\n",
       "    .dataframe tbody tr th {\n",
       "        vertical-align: top;\n",
       "    }\n",
       "\n",
       "    .dataframe thead th {\n",
       "        text-align: right;\n",
       "    }\n",
       "</style>\n",
       "<table border=\"1\" class=\"dataframe\">\n",
       "  <thead>\n",
       "    <tr style=\"text-align: right;\">\n",
       "      <th></th>\n",
       "      <th>Wissenschaftlicher_Name</th>\n",
       "      <th>BE</th>\n",
       "      <th>Bestand</th>\n",
       "      <th>Trend_lang</th>\n",
       "      <th>Trend_kurz</th>\n",
       "      <th>RF</th>\n",
       "      <th>BB</th>\n",
       "      <th>D</th>\n",
       "      <th>GS</th>\n",
       "      <th>GfU</th>\n",
       "      <th>Deutscher Name</th>\n",
       "    </tr>\n",
       "  </thead>\n",
       "  <tbody>\n",
       "  </tbody>\n",
       "</table>\n",
       "</div>"
      ],
      "text/plain": [
       "Empty DataFrame\n",
       "Columns: [Wissenschaftlicher_Name, BE, Bestand, Trend_lang, Trend_kurz, RF, BB, D, GS, GfU, Deutscher Name]\n",
       "Index: []"
      ]
     },
     "execution_count": 3,
     "metadata": {},
     "output_type": "execute_result"
    }
   ],
   "source": [
    "df = pd.DataFrame(columns = [\n",
    "    \"Wissenschaftlicher_Name\",\n",
    "    \"BE\", \n",
    "    \"Bestand\", \n",
    "    \"Trend_lang\", \n",
    "    \"Trend_kurz\",\n",
    "    \"RF\",\n",
    "    \"BB\",\n",
    "    \"D\",\n",
    "    \"GS\",\n",
    "    \"GfU\",\n",
    "    \"Deutscher Name\"\n",
    "])\n",
    "df"
   ]
  },
  {
   "cell_type": "code",
   "execution_count": 4,
   "id": "47f97437-2eef-4c9b-8deb-d1e2f84793ad",
   "metadata": {},
   "outputs": [
    {
     "data": {
      "text/plain": [
       "(0, 11)"
      ]
     },
     "execution_count": 4,
     "metadata": {},
     "output_type": "execute_result"
    }
   ],
   "source": [
    "df.shape"
   ]
  },
  {
   "cell_type": "markdown",
   "id": "5603d676-871d-4ea0-a427-ff51d1b2a331",
   "metadata": {},
   "source": [
    "## 2. Setup mechanism to store accuracy report : QA step"
   ]
  },
  {
   "cell_type": "code",
   "execution_count": 5,
   "id": "946990cf-3a79-4a65-aaa1-c4f179995d67",
   "metadata": {},
   "outputs": [],
   "source": [
    "accuracy = []"
   ]
  },
  {
   "cell_type": "markdown",
   "id": "ee9ae4b1-5ed3-4c80-a0ed-948dbe574bfc",
   "metadata": {},
   "source": [
    "## 3. Dictionary of dataframes on the go"
   ]
  },
  {
   "cell_type": "code",
   "execution_count": 6,
   "id": "b2c7ed2b-b619-4a75-b052-12c8adb562cb",
   "metadata": {},
   "outputs": [],
   "source": [
    "# Dictionary to collect dataframes created from each table\n",
    "d = {}"
   ]
  },
  {
   "cell_type": "markdown",
   "id": "09ced9f2-acca-4c75-a113-0c06281a93cf",
   "metadata": {},
   "source": [
    "## 4. Adding the list of pages to be parsed"
   ]
  },
  {
   "cell_type": "code",
   "execution_count": 7,
   "id": "c7bd13c5-208e-4997-9366-2d4a2b43a355",
   "metadata": {},
   "outputs": [
    {
     "name": "stdout",
     "output_type": "stream",
     "text": [
      "[7, 8, 9, 10]\n"
     ]
    }
   ],
   "source": [
    "pages = []\n",
    "i = 7\n",
    "while i < 11:\n",
    "    pages.append(i)\n",
    "    i = i + 1\n",
    "print(pages)"
   ]
  },
  {
   "cell_type": "markdown",
   "id": "e842252d-a796-45fb-b0cc-6a727f2a7bf7",
   "metadata": {},
   "source": [
    "## 5. Parsing through the pages"
   ]
  },
  {
   "cell_type": "code",
   "execution_count": 8,
   "id": "712128aa-f576-47fe-be80-4f5019d26b25",
   "metadata": {},
   "outputs": [
    {
     "name": "stdout",
     "output_type": "stream",
     "text": [
      "7\n",
      "(0, 11)\n",
      "8\n",
      "(1, 10)\n",
      "9\n",
      "(3, 11)\n",
      "10\n",
      "(0, 11)\n",
      "Done\n"
     ]
    }
   ],
   "source": [
    "for i in pages:\n",
    "    # print page number\n",
    "    print (i)\n",
    "    # create dataframe with page number\n",
    "    d[i] = pd.DataFrame()\n",
    "    #read the page\n",
    "    tables = camelot.read_pdf('rote_liste_libellen_petzold.pdf', pages= str(i), flavor='stream', edge_tol=1000, row_tol=10)\n",
    "    # add the accuracy report\n",
    "    accuracy.append(tables[0].parsing_report)\n",
    "    # assign the first table to a dataframe\n",
    "    d[i] = tables[0].df\n",
    "    # check for rows with \"ex\" column 2 and get a list of indices for those rows\n",
    "    ex_index = d[i][(d[i].iloc[:,1] == \"ex\") | (d[i].iloc[:,2] == \"ex\") ].index\n",
    "    # only keep the rows if the index is in the ex_index\n",
    "    d[i] = d[i][(d[i].index.isin(ex_index))]\n",
    "    # print the shape of the dataframe \n",
    "    # (check whether there are enough columns, if not change page reading parameters\n",
    "    print(d[i].shape)\n",
    "# Print Done once all pages are parsed\n",
    "print (\"Done\")"
   ]
  },
  {
   "cell_type": "code",
   "execution_count": 9,
   "id": "2f528b80-4a01-4eb4-9e53-43796ff224b4",
   "metadata": {},
   "outputs": [
    {
     "data": {
      "text/plain": [
       "[{'accuracy': 100.0, 'whitespace': 37.12, 'order': 1, 'page': 7},\n",
       " {'accuracy': 100.0, 'whitespace': 23.08, 'order': 1, 'page': 8},\n",
       " {'accuracy': 100.0, 'whitespace': 32.17, 'order': 1, 'page': 9},\n",
       " {'accuracy': 100.0, 'whitespace': 29.22, 'order': 1, 'page': 10}]"
      ]
     },
     "execution_count": 9,
     "metadata": {},
     "output_type": "execute_result"
    }
   ],
   "source": [
    "# Check accuracy reports for the process\n",
    "accuracy"
   ]
  },
  {
   "cell_type": "code",
   "execution_count": 10,
   "id": "7de61e65-83d5-4d77-a6a4-8af2a7ef9701",
   "metadata": {},
   "outputs": [
    {
     "data": {
      "text/html": [
       "<div>\n",
       "<style scoped>\n",
       "    .dataframe tbody tr th:only-of-type {\n",
       "        vertical-align: middle;\n",
       "    }\n",
       "\n",
       "    .dataframe tbody tr th {\n",
       "        vertical-align: top;\n",
       "    }\n",
       "\n",
       "    .dataframe thead th {\n",
       "        text-align: right;\n",
       "    }\n",
       "</style>\n",
       "<table border=\"1\" class=\"dataframe\">\n",
       "  <thead>\n",
       "    <tr style=\"text-align: right;\">\n",
       "      <th></th>\n",
       "      <th>0</th>\n",
       "      <th>1</th>\n",
       "      <th>2</th>\n",
       "      <th>3</th>\n",
       "      <th>4</th>\n",
       "      <th>5</th>\n",
       "      <th>6</th>\n",
       "      <th>7</th>\n",
       "      <th>8</th>\n",
       "      <th>9</th>\n",
       "      <th>10</th>\n",
       "    </tr>\n",
       "  </thead>\n",
       "  <tbody>\n",
       "  </tbody>\n",
       "</table>\n",
       "</div>"
      ],
      "text/plain": [
       "Empty DataFrame\n",
       "Columns: [0, 1, 2, 3, 4, 5, 6, 7, 8, 9, 10]\n",
       "Index: []"
      ]
     },
     "execution_count": 10,
     "metadata": {},
     "output_type": "execute_result"
    }
   ],
   "source": [
    "d[7]"
   ]
  },
  {
   "cell_type": "code",
   "execution_count": 11,
   "id": "8f1654a9-7a03-42f6-9bda-b01588c6af65",
   "metadata": {},
   "outputs": [
    {
     "data": {
      "text/html": [
       "<div>\n",
       "<style scoped>\n",
       "    .dataframe tbody tr th:only-of-type {\n",
       "        vertical-align: middle;\n",
       "    }\n",
       "\n",
       "    .dataframe tbody tr th {\n",
       "        vertical-align: top;\n",
       "    }\n",
       "\n",
       "    .dataframe thead th {\n",
       "        text-align: right;\n",
       "    }\n",
       "</style>\n",
       "<table border=\"1\" class=\"dataframe\">\n",
       "  <thead>\n",
       "    <tr style=\"text-align: right;\">\n",
       "      <th></th>\n",
       "      <th>0</th>\n",
       "      <th>1</th>\n",
       "      <th>2</th>\n",
       "      <th>3</th>\n",
       "      <th>4</th>\n",
       "      <th>5</th>\n",
       "      <th>6</th>\n",
       "      <th>7</th>\n",
       "      <th>8</th>\n",
       "      <th>9</th>\n",
       "    </tr>\n",
       "  </thead>\n",
       "  <tbody>\n",
       "    <tr>\n",
       "      <th>7</th>\n",
       "      <td>Nehalennia speciosa (CHARPENTIER, 1840)*</td>\n",
       "      <td>0</td>\n",
       "      <td>ex</td>\n",
       "      <td></td>\n",
       "      <td></td>\n",
       "      <td></td>\n",
       "      <td>2</td>\n",
       "      <td>1</td>\n",
       "      <td>§§</td>\n",
       "      <td>1a, 1c, 2d, 10c, \\nZwerglibelle</td>\n",
       "    </tr>\n",
       "  </tbody>\n",
       "</table>\n",
       "</div>"
      ],
      "text/plain": [
       "                                          0  1   2 3 4 5  6  7   8  \\\n",
       "7  Nehalennia speciosa (CHARPENTIER, 1840)*  0  ex        2  1  §§   \n",
       "\n",
       "                                 9  \n",
       "7  1a, 1c, 2d, 10c, \\nZwerglibelle  "
      ]
     },
     "execution_count": 11,
     "metadata": {},
     "output_type": "execute_result"
    }
   ],
   "source": [
    "d[8]"
   ]
  },
  {
   "cell_type": "code",
   "execution_count": 12,
   "id": "3b4c057e-a8a3-40c2-8772-b14fd5f7a45c",
   "metadata": {},
   "outputs": [
    {
     "data": {
      "text/html": [
       "<div>\n",
       "<style scoped>\n",
       "    .dataframe tbody tr th:only-of-type {\n",
       "        vertical-align: middle;\n",
       "    }\n",
       "\n",
       "    .dataframe tbody tr th {\n",
       "        vertical-align: top;\n",
       "    }\n",
       "\n",
       "    .dataframe thead th {\n",
       "        text-align: right;\n",
       "    }\n",
       "</style>\n",
       "<table border=\"1\" class=\"dataframe\">\n",
       "  <thead>\n",
       "    <tr style=\"text-align: right;\">\n",
       "      <th></th>\n",
       "      <th>0</th>\n",
       "      <th>1</th>\n",
       "      <th>2</th>\n",
       "      <th>3</th>\n",
       "      <th>4</th>\n",
       "      <th>5</th>\n",
       "      <th>6</th>\n",
       "      <th>7</th>\n",
       "      <th>8</th>\n",
       "      <th>9</th>\n",
       "      <th>10</th>\n",
       "    </tr>\n",
       "  </thead>\n",
       "  <tbody>\n",
       "    <tr>\n",
       "      <th>3</th>\n",
       "      <td>Onychogomphus forcipatus (LINNAEUS, 1758)*</td>\n",
       "      <td>0</td>\n",
       "      <td>ex</td>\n",
       "      <td></td>\n",
       "      <td></td>\n",
       "      <td></td>\n",
       "      <td>3</td>\n",
       "      <td>V</td>\n",
       "      <td>§</td>\n",
       "      <td>3a, 3b, 5a, 5b,</td>\n",
       "      <td>Kleine Zangenlibelle</td>\n",
       "    </tr>\n",
       "    <tr>\n",
       "      <th>7</th>\n",
       "      <td>Cordulegaster boltonii (DONOVAN, 1807)*</td>\n",
       "      <td>0</td>\n",
       "      <td>ex</td>\n",
       "      <td></td>\n",
       "      <td></td>\n",
       "      <td></td>\n",
       "      <td>3</td>\n",
       "      <td>*</td>\n",
       "      <td>§</td>\n",
       "      <td>1a, 5b, 11c</td>\n",
       "      <td>Zweigestreifte</td>\n",
       "    </tr>\n",
       "    <tr>\n",
       "      <th>19</th>\n",
       "      <td>Leucorrhinia dubia (VANDER LINDEN, 1825)*</td>\n",
       "      <td>0</td>\n",
       "      <td>ex</td>\n",
       "      <td></td>\n",
       "      <td></td>\n",
       "      <td></td>\n",
       "      <td>2</td>\n",
       "      <td>3</td>\n",
       "      <td>§</td>\n",
       "      <td>2d, 7e, 10c, 11c</td>\n",
       "      <td>Kleine Moosjungfer</td>\n",
       "    </tr>\n",
       "  </tbody>\n",
       "</table>\n",
       "</div>"
      ],
      "text/plain": [
       "                                            0  1   2  3  4  5  6  7  8   \\\n",
       "3   Onychogomphus forcipatus (LINNAEUS, 1758)*  0  ex           3  V  §   \n",
       "7      Cordulegaster boltonii (DONOVAN, 1807)*  0  ex           3  *  §   \n",
       "19   Leucorrhinia dubia (VANDER LINDEN, 1825)*  0  ex           2  3  §   \n",
       "\n",
       "                  9                     10  \n",
       "3    3a, 3b, 5a, 5b,  Kleine Zangenlibelle  \n",
       "7        1a, 5b, 11c        Zweigestreifte  \n",
       "19  2d, 7e, 10c, 11c    Kleine Moosjungfer  "
      ]
     },
     "execution_count": 12,
     "metadata": {},
     "output_type": "execute_result"
    }
   ],
   "source": [
    "d[9]"
   ]
  },
  {
   "cell_type": "code",
   "execution_count": 13,
   "id": "159a96c6-4cce-4a96-a154-d7e099cbd765",
   "metadata": {},
   "outputs": [
    {
     "data": {
      "text/html": [
       "<div>\n",
       "<style scoped>\n",
       "    .dataframe tbody tr th:only-of-type {\n",
       "        vertical-align: middle;\n",
       "    }\n",
       "\n",
       "    .dataframe tbody tr th {\n",
       "        vertical-align: top;\n",
       "    }\n",
       "\n",
       "    .dataframe thead th {\n",
       "        text-align: right;\n",
       "    }\n",
       "</style>\n",
       "<table border=\"1\" class=\"dataframe\">\n",
       "  <thead>\n",
       "    <tr style=\"text-align: right;\">\n",
       "      <th></th>\n",
       "      <th>0</th>\n",
       "      <th>1</th>\n",
       "      <th>2</th>\n",
       "      <th>3</th>\n",
       "      <th>4</th>\n",
       "      <th>5</th>\n",
       "      <th>6</th>\n",
       "      <th>7</th>\n",
       "      <th>8</th>\n",
       "      <th>9</th>\n",
       "      <th>10</th>\n",
       "    </tr>\n",
       "  </thead>\n",
       "  <tbody>\n",
       "  </tbody>\n",
       "</table>\n",
       "</div>"
      ],
      "text/plain": [
       "Empty DataFrame\n",
       "Columns: [0, 1, 2, 3, 4, 5, 6, 7, 8, 9, 10]\n",
       "Index: []"
      ]
     },
     "execution_count": 13,
     "metadata": {},
     "output_type": "execute_result"
    }
   ],
   "source": [
    "d[10]"
   ]
  },
  {
   "cell_type": "markdown",
   "id": "db574ad8-2c03-45ce-b016-28f12fc1d8d7",
   "metadata": {},
   "source": [
    "# Data cleanup steps"
   ]
  },
  {
   "cell_type": "raw",
   "id": "827959ab-12d0-4ea2-a41f-da7480ffbb91",
   "metadata": {},
   "source": [
    "d[67]       \n",
    "    : Look at the data frame extracted from 67th page\n",
    "d[67].shape \n",
    "    : Look at the shape of the dataframe\n",
    "d[68] = d[68].drop([12], axis=1)\n",
    "    : Drop the 12th column in place\n",
    "d[68][10] = d[68][[10, 11]].agg(' '.join, axis=1)\n",
    "    : Join 10th and 11th columns with a space in between\n",
    "d[69][[9,11]] = d[69][9].str.split('\\n', expand=True)\n",
    "    : Split 9th Column at the '\\n' sign and add a new column called 11\n",
    "column_to_move = d[69].pop(11)\n",
    "column_to_move\n",
    "d[69].insert(9, 11, column_to_move )\n",
    "    : Pop column 11 and insert it at column 9\n",
    "d[75].insert(9, '10', [\"\",\"\"])\n",
    "    : Insert two rows of column 10 after 9 with empty cells"
   ]
  },
  {
   "cell_type": "code",
   "execution_count": 14,
   "id": "565bcabf-5b9e-4f04-bf5b-231a56802061",
   "metadata": {},
   "outputs": [
    {
     "name": "stdout",
     "output_type": "stream",
     "text": [
      "7\n",
      "(0, 11)\n",
      "8\n",
      "(1, 10)\n",
      "9\n",
      "(3, 11)\n",
      "10\n",
      "(0, 11)\n"
     ]
    }
   ],
   "source": [
    "# Check whether all dataframes are of the same size\n",
    "for key in d:\n",
    "    print(key)\n",
    "    print(d[key].shape)"
   ]
  },
  {
   "cell_type": "code",
   "execution_count": 15,
   "id": "231dbda7-8774-44b6-a3d8-ee9458889e8e",
   "metadata": {},
   "outputs": [],
   "source": [
    "del d[7]\n",
    "del d[10]"
   ]
  },
  {
   "cell_type": "code",
   "execution_count": 16,
   "id": "75629d7b-90c4-48ad-ad83-fcf14632e4e5",
   "metadata": {},
   "outputs": [
    {
     "name": "stdout",
     "output_type": "stream",
     "text": [
      "8\n",
      "(1, 10)\n",
      "9\n",
      "(3, 11)\n"
     ]
    }
   ],
   "source": [
    "for key in d:\n",
    "    print(key)\n",
    "    print(d[key].shape)"
   ]
  },
  {
   "cell_type": "code",
   "execution_count": 17,
   "id": "4d49c4f8-736e-408c-83bf-6e02367acc74",
   "metadata": {},
   "outputs": [
    {
     "data": {
      "text/html": [
       "<div>\n",
       "<style scoped>\n",
       "    .dataframe tbody tr th:only-of-type {\n",
       "        vertical-align: middle;\n",
       "    }\n",
       "\n",
       "    .dataframe tbody tr th {\n",
       "        vertical-align: top;\n",
       "    }\n",
       "\n",
       "    .dataframe thead th {\n",
       "        text-align: right;\n",
       "    }\n",
       "</style>\n",
       "<table border=\"1\" class=\"dataframe\">\n",
       "  <thead>\n",
       "    <tr style=\"text-align: right;\">\n",
       "      <th></th>\n",
       "      <th>0</th>\n",
       "      <th>1</th>\n",
       "      <th>2</th>\n",
       "      <th>3</th>\n",
       "      <th>4</th>\n",
       "      <th>5</th>\n",
       "      <th>6</th>\n",
       "      <th>7</th>\n",
       "      <th>8</th>\n",
       "      <th>9</th>\n",
       "    </tr>\n",
       "  </thead>\n",
       "  <tbody>\n",
       "    <tr>\n",
       "      <th>7</th>\n",
       "      <td>Nehalennia speciosa (CHARPENTIER, 1840)*</td>\n",
       "      <td>0</td>\n",
       "      <td>ex</td>\n",
       "      <td></td>\n",
       "      <td></td>\n",
       "      <td></td>\n",
       "      <td>2</td>\n",
       "      <td>1</td>\n",
       "      <td>§§</td>\n",
       "      <td>1a, 1c, 2d, 10c, \\nZwerglibelle</td>\n",
       "    </tr>\n",
       "  </tbody>\n",
       "</table>\n",
       "</div>"
      ],
      "text/plain": [
       "                                          0  1   2 3 4 5  6  7   8  \\\n",
       "7  Nehalennia speciosa (CHARPENTIER, 1840)*  0  ex        2  1  §§   \n",
       "\n",
       "                                 9  \n",
       "7  1a, 1c, 2d, 10c, \\nZwerglibelle  "
      ]
     },
     "execution_count": 17,
     "metadata": {},
     "output_type": "execute_result"
    }
   ],
   "source": [
    "d[8]"
   ]
  },
  {
   "cell_type": "code",
   "execution_count": 18,
   "id": "259d931e-07a9-42a1-b92b-4ec85c5777a6",
   "metadata": {},
   "outputs": [],
   "source": [
    "# Removing empty dataframes\n",
    "# del d[64]\n",
    "# del d[74]"
   ]
  },
  {
   "cell_type": "code",
   "execution_count": 19,
   "id": "f7e2b4af-d21b-4097-88af-e80f73c04d5f",
   "metadata": {},
   "outputs": [
    {
     "data": {
      "text/html": [
       "<div>\n",
       "<style scoped>\n",
       "    .dataframe tbody tr th:only-of-type {\n",
       "        vertical-align: middle;\n",
       "    }\n",
       "\n",
       "    .dataframe tbody tr th {\n",
       "        vertical-align: top;\n",
       "    }\n",
       "\n",
       "    .dataframe thead th {\n",
       "        text-align: right;\n",
       "    }\n",
       "</style>\n",
       "<table border=\"1\" class=\"dataframe\">\n",
       "  <thead>\n",
       "    <tr style=\"text-align: right;\">\n",
       "      <th></th>\n",
       "      <th>0</th>\n",
       "      <th>1</th>\n",
       "      <th>2</th>\n",
       "      <th>3</th>\n",
       "      <th>4</th>\n",
       "      <th>5</th>\n",
       "      <th>6</th>\n",
       "      <th>7</th>\n",
       "      <th>8</th>\n",
       "      <th>9</th>\n",
       "      <th>10</th>\n",
       "    </tr>\n",
       "  </thead>\n",
       "  <tbody>\n",
       "    <tr>\n",
       "      <th>7</th>\n",
       "      <td>Nehalennia speciosa (CHARPENTIER, 1840)*</td>\n",
       "      <td>0</td>\n",
       "      <td>ex</td>\n",
       "      <td></td>\n",
       "      <td></td>\n",
       "      <td></td>\n",
       "      <td>2</td>\n",
       "      <td>1</td>\n",
       "      <td>§§</td>\n",
       "      <td>1a, 1c, 2d, 10c,</td>\n",
       "      <td>Zwerglibelle</td>\n",
       "    </tr>\n",
       "  </tbody>\n",
       "</table>\n",
       "</div>"
      ],
      "text/plain": [
       "                                         0  1   2  3  4  5  6  7   8   \\\n",
       "7  Nehalennia speciosa (CHARPENTIER, 1840)*  0  ex           2  1  §§   \n",
       "\n",
       "                  9             10  \n",
       "7  1a, 1c, 2d, 10c,   Zwerglibelle  "
      ]
     },
     "execution_count": 19,
     "metadata": {},
     "output_type": "execute_result"
    }
   ],
   "source": [
    "d[8][[9,10]] = d[8][9].str.split('\\n', expand=True)\n",
    "d[8]"
   ]
  },
  {
   "cell_type": "code",
   "execution_count": 20,
   "id": "f43a6f6b-cafa-4823-90df-b2f3458572bf",
   "metadata": {},
   "outputs": [
    {
     "data": {
      "text/plain": [
       "(1, 11)"
      ]
     },
     "execution_count": 20,
     "metadata": {},
     "output_type": "execute_result"
    }
   ],
   "source": [
    "d[8].shape"
   ]
  },
  {
   "cell_type": "code",
   "execution_count": 21,
   "id": "7d240c16-c939-4ce2-bc90-bdcfc52fe84c",
   "metadata": {},
   "outputs": [],
   "source": [
    "# Creates a sorted dictionary (sorted by key)\n",
    "from collections import OrderedDict\n",
    "d2 = OrderedDict(sorted(d.items()))"
   ]
  },
  {
   "cell_type": "code",
   "execution_count": 22,
   "id": "65c02a66-f14e-442d-a521-0c518f27c4a4",
   "metadata": {},
   "outputs": [
    {
     "name": "stdout",
     "output_type": "stream",
     "text": [
      "8\n",
      "9\n"
     ]
    }
   ],
   "source": [
    "# Check whether the dictionary is sorted\n",
    "for key in d2:\n",
    "    print(key)"
   ]
  },
  {
   "cell_type": "code",
   "execution_count": 23,
   "id": "73e281ce-f58d-4991-9c1c-3b04638ceb0b",
   "metadata": {},
   "outputs": [
    {
     "name": "stdout",
     "output_type": "stream",
     "text": [
      "8\n",
      "9\n",
      "Rename completed for concat\n"
     ]
    }
   ],
   "source": [
    "# Rename all the dataframes in the sorted dictionary\n",
    "for key in d2:\n",
    "    print(key)\n",
    "    d2[key].columns = [ \"Wissenschaftlicher_Name\",\n",
    "    \"BE\", \n",
    "    \"Bestand\", \n",
    "    \"Trend_lang\", \n",
    "    \"Trend_kurz\",\n",
    "    \"RF\",\n",
    "    \"BB\",\n",
    "    \"D\",\n",
    "    \"GS\",\n",
    "    \"GfU\",\n",
    "    \"Deutscher Name\"]\n",
    "print(\"Rename completed for concat\")"
   ]
  },
  {
   "cell_type": "code",
   "execution_count": 24,
   "id": "b7e6983e-7c81-4852-9268-0dc9c1c98636",
   "metadata": {},
   "outputs": [
    {
     "data": {
      "text/html": [
       "<div>\n",
       "<style scoped>\n",
       "    .dataframe tbody tr th:only-of-type {\n",
       "        vertical-align: middle;\n",
       "    }\n",
       "\n",
       "    .dataframe tbody tr th {\n",
       "        vertical-align: top;\n",
       "    }\n",
       "\n",
       "    .dataframe thead th {\n",
       "        text-align: right;\n",
       "    }\n",
       "</style>\n",
       "<table border=\"1\" class=\"dataframe\">\n",
       "  <thead>\n",
       "    <tr style=\"text-align: right;\">\n",
       "      <th></th>\n",
       "      <th>Wissenschaftlicher_Name</th>\n",
       "      <th>BE</th>\n",
       "      <th>Bestand</th>\n",
       "      <th>Trend_lang</th>\n",
       "      <th>Trend_kurz</th>\n",
       "      <th>RF</th>\n",
       "      <th>BB</th>\n",
       "      <th>D</th>\n",
       "      <th>GS</th>\n",
       "      <th>GfU</th>\n",
       "      <th>Deutscher Name</th>\n",
       "    </tr>\n",
       "  </thead>\n",
       "  <tbody>\n",
       "    <tr>\n",
       "      <th>7</th>\n",
       "      <td>Nehalennia speciosa (CHARPENTIER, 1840)*</td>\n",
       "      <td>0</td>\n",
       "      <td>ex</td>\n",
       "      <td></td>\n",
       "      <td></td>\n",
       "      <td></td>\n",
       "      <td>2</td>\n",
       "      <td>1</td>\n",
       "      <td>§§</td>\n",
       "      <td>1a, 1c, 2d, 10c,</td>\n",
       "      <td>Zwerglibelle</td>\n",
       "    </tr>\n",
       "    <tr>\n",
       "      <th>3</th>\n",
       "      <td>Onychogomphus forcipatus (LINNAEUS, 1758)*</td>\n",
       "      <td>0</td>\n",
       "      <td>ex</td>\n",
       "      <td></td>\n",
       "      <td></td>\n",
       "      <td></td>\n",
       "      <td>3</td>\n",
       "      <td>V</td>\n",
       "      <td>§</td>\n",
       "      <td>3a, 3b, 5a, 5b,</td>\n",
       "      <td>Kleine Zangenlibelle</td>\n",
       "    </tr>\n",
       "    <tr>\n",
       "      <th>7</th>\n",
       "      <td>Cordulegaster boltonii (DONOVAN, 1807)*</td>\n",
       "      <td>0</td>\n",
       "      <td>ex</td>\n",
       "      <td></td>\n",
       "      <td></td>\n",
       "      <td></td>\n",
       "      <td>3</td>\n",
       "      <td>*</td>\n",
       "      <td>§</td>\n",
       "      <td>1a, 5b, 11c</td>\n",
       "      <td>Zweigestreifte</td>\n",
       "    </tr>\n",
       "    <tr>\n",
       "      <th>19</th>\n",
       "      <td>Leucorrhinia dubia (VANDER LINDEN, 1825)*</td>\n",
       "      <td>0</td>\n",
       "      <td>ex</td>\n",
       "      <td></td>\n",
       "      <td></td>\n",
       "      <td></td>\n",
       "      <td>2</td>\n",
       "      <td>3</td>\n",
       "      <td>§</td>\n",
       "      <td>2d, 7e, 10c, 11c</td>\n",
       "      <td>Kleine Moosjungfer</td>\n",
       "    </tr>\n",
       "  </tbody>\n",
       "</table>\n",
       "</div>"
      ],
      "text/plain": [
       "                       Wissenschaftlicher_Name BE Bestand Trend_lang  \\\n",
       "7     Nehalennia speciosa (CHARPENTIER, 1840)*  0      ex              \n",
       "3   Onychogomphus forcipatus (LINNAEUS, 1758)*  0      ex              \n",
       "7      Cordulegaster boltonii (DONOVAN, 1807)*  0      ex              \n",
       "19   Leucorrhinia dubia (VANDER LINDEN, 1825)*  0      ex              \n",
       "\n",
       "   Trend_kurz RF BB  D  GS                GfU        Deutscher Name  \n",
       "7                 2  1  §§  1a, 1c, 2d, 10c,           Zwerglibelle  \n",
       "3                 3  V   §    3a, 3b, 5a, 5b,  Kleine Zangenlibelle  \n",
       "7                 3  *   §        1a, 5b, 11c        Zweigestreifte  \n",
       "19                2  3   §   2d, 7e, 10c, 11c    Kleine Moosjungfer  "
      ]
     },
     "execution_count": 24,
     "metadata": {},
     "output_type": "execute_result"
    }
   ],
   "source": [
    "# Concatanate all the non-empty dataframes in the sorted dictionary into the empty df\n",
    "for key in d2:\n",
    "    df = pd.concat([df, d2[key]], axis = 0)\n",
    "df"
   ]
  },
  {
   "cell_type": "code",
   "execution_count": 25,
   "id": "14eda330-12b0-4641-959e-258e5695efdd",
   "metadata": {},
   "outputs": [],
   "source": [
    "# Updated export location\n",
    "# export the dataframe as CSV\n",
    "df.to_csv('../../Transformation/Raw_csv/Odonata.csv', \n",
    "          index = False\n",
    "         )"
   ]
  },
  {
   "cell_type": "code",
   "execution_count": null,
   "id": "aa694bf6-5548-4d59-907b-45d0c616a111",
   "metadata": {},
   "outputs": [],
   "source": []
  }
 ],
 "metadata": {
  "kernelspec": {
   "display_name": "Python 3 (ipykernel)",
   "language": "python",
   "name": "python3"
  },
  "language_info": {
   "codemirror_mode": {
    "name": "ipython",
    "version": 3
   },
   "file_extension": ".py",
   "mimetype": "text/x-python",
   "name": "python",
   "nbconvert_exporter": "python",
   "pygments_lexer": "ipython3",
   "version": "3.8.9"
  }
 },
 "nbformat": 4,
 "nbformat_minor": 5
}
