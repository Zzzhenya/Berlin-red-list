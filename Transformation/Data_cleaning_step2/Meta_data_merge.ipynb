{
 "cells": [
  {
   "cell_type": "code",
   "execution_count": 15,
   "id": "79e4e3fb-b1bc-4cca-a754-d9606a511513",
   "metadata": {},
   "outputs": [],
   "source": [
    "import pandas as pd\n",
    "import numpy as np"
   ]
  },
  {
   "cell_type": "code",
   "execution_count": 16,
   "id": "d3d274d6-a8dc-4f16-8a26-e58018d286cc",
   "metadata": {},
   "outputs": [],
   "source": [
    "df = pd.read_csv('Extinct_species_without_meta.csv') "
   ]
  },
  {
   "cell_type": "code",
   "execution_count": 17,
   "id": "fe18506e-d0e9-495d-9c68-0b84a65eef99",
   "metadata": {},
   "outputs": [
    {
     "data": {
      "text/html": [
       "<div>\n",
       "<style scoped>\n",
       "    .dataframe tbody tr th:only-of-type {\n",
       "        vertical-align: middle;\n",
       "    }\n",
       "\n",
       "    .dataframe tbody tr th {\n",
       "        vertical-align: top;\n",
       "    }\n",
       "\n",
       "    .dataframe thead th {\n",
       "        text-align: right;\n",
       "    }\n",
       "</style>\n",
       "<table border=\"1\" class=\"dataframe\">\n",
       "  <thead>\n",
       "    <tr style=\"text-align: right;\">\n",
       "      <th></th>\n",
       "      <th>Species</th>\n",
       "      <th>Family</th>\n",
       "      <th>BE</th>\n",
       "      <th>Letzter_Nachweis</th>\n",
       "      <th>Deutscher_Name</th>\n",
       "      <th>Reference</th>\n",
       "    </tr>\n",
       "  </thead>\n",
       "  <tbody>\n",
       "    <tr>\n",
       "      <th>1052</th>\n",
       "      <td>Hieracium maculatum subsp.</td>\n",
       "      <td>Asteraceae</td>\n",
       "      <td>0</td>\n",
       "      <td>1922</td>\n",
       "      <td>Geflecktes Habichtskraut,</td>\n",
       "      <td>Rote Liste und Gesamtartenliste der etablierte...</td>\n",
       "    </tr>\n",
       "    <tr>\n",
       "      <th>1349</th>\n",
       "      <td>Tephromela atra</td>\n",
       "      <td>Ramalinaceae</td>\n",
       "      <td>0</td>\n",
       "      <td>NaN</td>\n",
       "      <td>NaN</td>\n",
       "      <td>Rote Liste und Gesamtartenliste der Flechten (...</td>\n",
       "    </tr>\n",
       "  </tbody>\n",
       "</table>\n",
       "</div>"
      ],
      "text/plain": [
       "                         Species        Family  BE Letzter_Nachweis  \\\n",
       "1052  Hieracium maculatum subsp.    Asteraceae   0             1922   \n",
       "1349             Tephromela atra  Ramalinaceae   0              NaN   \n",
       "\n",
       "                 Deutscher_Name  \\\n",
       "1052  Geflecktes Habichtskraut,   \n",
       "1349                        NaN   \n",
       "\n",
       "                                              Reference  \n",
       "1052  Rote Liste und Gesamtartenliste der etablierte...  \n",
       "1349  Rote Liste und Gesamtartenliste der Flechten (...  "
      ]
     },
     "execution_count": 17,
     "metadata": {},
     "output_type": "execute_result"
    }
   ],
   "source": [
    "df.loc[df.duplicated(subset = \"Species\")]"
   ]
  },
  {
   "cell_type": "code",
   "execution_count": 18,
   "id": "7647958c-ef32-4d86-a570-993fa25b2fb1",
   "metadata": {},
   "outputs": [
    {
     "data": {
      "text/plain": [
       "'Rote Liste und Gesamtartenliste der Flechten (Lichenes) von Berlin'"
      ]
     },
     "execution_count": 18,
     "metadata": {},
     "output_type": "execute_result"
    }
   ],
   "source": [
    "df.at[1349, \"Reference\"]"
   ]
  },
  {
   "cell_type": "code",
   "execution_count": 19,
   "id": "1faefec1-033e-42c1-976e-196924fcc21b",
   "metadata": {},
   "outputs": [
    {
     "data": {
      "text/plain": [
       "'Rote Liste und Gesamtartenliste der etablierten Farn- und Blütenpflanzen von Berlin'"
      ]
     },
     "execution_count": 19,
     "metadata": {},
     "output_type": "execute_result"
    }
   ],
   "source": [
    "df.at[1052, \"Reference\"]"
   ]
  },
  {
   "cell_type": "code",
   "execution_count": null,
   "id": "7403281a-c803-4005-b256-b510144182c3",
   "metadata": {},
   "outputs": [],
   "source": []
  }
 ],
 "metadata": {
  "kernelspec": {
   "display_name": "Python 3 (ipykernel)",
   "language": "python",
   "name": "python3"
  },
  "language_info": {
   "codemirror_mode": {
    "name": "ipython",
    "version": 3
   },
   "file_extension": ".py",
   "mimetype": "text/x-python",
   "name": "python",
   "nbconvert_exporter": "python",
   "pygments_lexer": "ipython3",
   "version": "3.8.9"
  }
 },
 "nbformat": 4,
 "nbformat_minor": 5
}
