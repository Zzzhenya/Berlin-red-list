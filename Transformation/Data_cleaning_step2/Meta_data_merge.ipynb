{
 "cells": [
  {
   "cell_type": "code",
   "execution_count": 1,
   "id": "79e4e3fb-b1bc-4cca-a754-d9606a511513",
   "metadata": {},
   "outputs": [],
   "source": [
    "import pandas as pd\n",
    "import numpy as np"
   ]
  },
  {
   "cell_type": "code",
   "execution_count": 2,
   "id": "d3d274d6-a8dc-4f16-8a26-e58018d286cc",
   "metadata": {},
   "outputs": [],
   "source": [
    "df = pd.read_csv('Extinct_species_without_meta.csv') "
   ]
  },
  {
   "cell_type": "markdown",
   "id": "9f4126cf-34bb-4eae-a068-9545290588ef",
   "metadata": {
    "tags": []
   },
   "source": [
    "# Checking for duplicates"
   ]
  },
  {
   "cell_type": "code",
   "execution_count": 3,
   "id": "fe18506e-d0e9-495d-9c68-0b84a65eef99",
   "metadata": {},
   "outputs": [
    {
     "data": {
      "text/html": [
       "<div>\n",
       "<style scoped>\n",
       "    .dataframe tbody tr th:only-of-type {\n",
       "        vertical-align: middle;\n",
       "    }\n",
       "\n",
       "    .dataframe tbody tr th {\n",
       "        vertical-align: top;\n",
       "    }\n",
       "\n",
       "    .dataframe thead th {\n",
       "        text-align: right;\n",
       "    }\n",
       "</style>\n",
       "<table border=\"1\" class=\"dataframe\">\n",
       "  <thead>\n",
       "    <tr style=\"text-align: right;\">\n",
       "      <th></th>\n",
       "      <th>Species</th>\n",
       "      <th>Family</th>\n",
       "      <th>BE</th>\n",
       "      <th>Letzter_Nachweis</th>\n",
       "      <th>Deutscher_Name</th>\n",
       "      <th>Reference</th>\n",
       "    </tr>\n",
       "  </thead>\n",
       "  <tbody>\n",
       "  </tbody>\n",
       "</table>\n",
       "</div>"
      ],
      "text/plain": [
       "Empty DataFrame\n",
       "Columns: [Species, Family, BE, Letzter_Nachweis, Deutscher_Name, Reference]\n",
       "Index: []"
      ]
     },
     "execution_count": 3,
     "metadata": {},
     "output_type": "execute_result"
    }
   ],
   "source": [
    "\n",
    "df.loc[df.duplicated(subset = \"Species\")]"
   ]
  },
  {
   "cell_type": "code",
   "execution_count": 4,
   "id": "523a2c1f-055e-4a55-b10d-d19cdc52b261",
   "metadata": {},
   "outputs": [
    {
     "data": {
      "text/plain": [
       "'Rote Liste und Gesamtartenliste der Flechten (Lichenes) von Berlin'"
      ]
     },
     "execution_count": 4,
     "metadata": {},
     "output_type": "execute_result"
    }
   ],
   "source": [
    "df.at[1349, \"Reference\"]"
   ]
  },
  {
   "cell_type": "code",
   "execution_count": 5,
   "id": "7403281a-c803-4005-b256-b510144182c3",
   "metadata": {},
   "outputs": [],
   "source": [
    "# Fixing duplicates in Lichens\n",
    "# Done\n",
    "#1. Adding the var name for Tephromela atra var. torulosa\n",
    "\n",
    "#To Do\n",
    "# A data row with only the genus in the Species name: Look for \"Stereocaulon PASCHALE\"\n"
   ]
  },
  {
   "cell_type": "code",
   "execution_count": 6,
   "id": "56718718-9506-468a-9022-964cadd51ded",
   "metadata": {},
   "outputs": [
    {
     "data": {
      "text/plain": [
       "'Rote Liste und Gesamtartenliste der etablierten Farn- und Blütenpflanzen von Berlin'"
      ]
     },
     "execution_count": 6,
     "metadata": {},
     "output_type": "execute_result"
    }
   ],
   "source": [
    "df.at[1052, \"Reference\"]"
   ]
  },
  {
   "cell_type": "code",
   "execution_count": 7,
   "id": "0d3a8277-d36f-4eb9-bd87-ca74e13ede71",
   "metadata": {},
   "outputs": [],
   "source": [
    "# Fixing duplicates in Vascular Plants\n",
    "# Done\n",
    "#1. Removing \\n from Species name and common name\n",
    "#2. Increasing the extraction row tolerance to include entries with multiple lines\n",
    "#3. Including subspecies and hybrid names\n",
    "#4. Parsing GBIF multiple times until no NAN values for Family column\n",
    "\n",
    "#To Do\n",
    "# Automate the GBIF parsing ( pass the column number instead of copying manually)"
   ]
  },
  {
   "cell_type": "markdown",
   "id": "ff103b87-ef0d-40e5-98c5-20a0d2f075dc",
   "metadata": {
    "tags": []
   },
   "source": [
    "# Checking for NANs"
   ]
  },
  {
   "cell_type": "code",
   "execution_count": 8,
   "id": "96777d43-241b-4648-b696-813f39651c0b",
   "metadata": {},
   "outputs": [
    {
     "data": {
      "text/html": [
       "<div>\n",
       "<style scoped>\n",
       "    .dataframe tbody tr th:only-of-type {\n",
       "        vertical-align: middle;\n",
       "    }\n",
       "\n",
       "    .dataframe tbody tr th {\n",
       "        vertical-align: top;\n",
       "    }\n",
       "\n",
       "    .dataframe thead th {\n",
       "        text-align: right;\n",
       "    }\n",
       "</style>\n",
       "<table border=\"1\" class=\"dataframe\">\n",
       "  <thead>\n",
       "    <tr style=\"text-align: right;\">\n",
       "      <th></th>\n",
       "      <th>Species</th>\n",
       "      <th>Family</th>\n",
       "      <th>BE</th>\n",
       "      <th>Letzter_Nachweis</th>\n",
       "      <th>Deutscher_Name</th>\n",
       "      <th>Reference</th>\n",
       "    </tr>\n",
       "  </thead>\n",
       "  <tbody>\n",
       "  </tbody>\n",
       "</table>\n",
       "</div>"
      ],
      "text/plain": [
       "Empty DataFrame\n",
       "Columns: [Species, Family, BE, Letzter_Nachweis, Deutscher_Name, Reference]\n",
       "Index: []"
      ]
     },
     "execution_count": 8,
     "metadata": {},
     "output_type": "execute_result"
    }
   ],
   "source": [
    "# Species\n",
    "df[df.Species.isna()]"
   ]
  },
  {
   "cell_type": "code",
   "execution_count": 9,
   "id": "cc550c8d-1fce-4d5e-ae74-f1d21b735179",
   "metadata": {},
   "outputs": [
    {
     "data": {
      "text/html": [
       "<div>\n",
       "<style scoped>\n",
       "    .dataframe tbody tr th:only-of-type {\n",
       "        vertical-align: middle;\n",
       "    }\n",
       "\n",
       "    .dataframe tbody tr th {\n",
       "        vertical-align: top;\n",
       "    }\n",
       "\n",
       "    .dataframe thead th {\n",
       "        text-align: right;\n",
       "    }\n",
       "</style>\n",
       "<table border=\"1\" class=\"dataframe\">\n",
       "  <thead>\n",
       "    <tr style=\"text-align: right;\">\n",
       "      <th></th>\n",
       "      <th>Species</th>\n",
       "      <th>Family</th>\n",
       "      <th>BE</th>\n",
       "      <th>Letzter_Nachweis</th>\n",
       "      <th>Deutscher_Name</th>\n",
       "      <th>Reference</th>\n",
       "    </tr>\n",
       "  </thead>\n",
       "  <tbody>\n",
       "    <tr>\n",
       "      <th>1345</th>\n",
       "      <td>Stereocaulon PASCHALE</td>\n",
       "      <td>NaN</td>\n",
       "      <td>0</td>\n",
       "      <td>NaN</td>\n",
       "      <td>NaN</td>\n",
       "      <td>Rote Liste und Gesamtartenliste der Flechten (...</td>\n",
       "    </tr>\n",
       "  </tbody>\n",
       "</table>\n",
       "</div>"
      ],
      "text/plain": [
       "                    Species Family  BE Letzter_Nachweis Deutscher_Name  \\\n",
       "1345  Stereocaulon PASCHALE    NaN   0              NaN            NaN   \n",
       "\n",
       "                                              Reference  \n",
       "1345  Rote Liste und Gesamtartenliste der Flechten (...  "
      ]
     },
     "execution_count": 9,
     "metadata": {},
     "output_type": "execute_result"
    }
   ],
   "source": [
    "# Family\n",
    "df[df.Family.isna()]"
   ]
  },
  {
   "cell_type": "code",
   "execution_count": 10,
   "id": "46f3f6ab-4991-41ba-8735-7e7f4163b29b",
   "metadata": {},
   "outputs": [
    {
     "data": {
      "text/html": [
       "<div>\n",
       "<style scoped>\n",
       "    .dataframe tbody tr th:only-of-type {\n",
       "        vertical-align: middle;\n",
       "    }\n",
       "\n",
       "    .dataframe tbody tr th {\n",
       "        vertical-align: top;\n",
       "    }\n",
       "\n",
       "    .dataframe thead th {\n",
       "        text-align: right;\n",
       "    }\n",
       "</style>\n",
       "<table border=\"1\" class=\"dataframe\">\n",
       "  <thead>\n",
       "    <tr style=\"text-align: right;\">\n",
       "      <th></th>\n",
       "      <th>Species</th>\n",
       "      <th>Family</th>\n",
       "      <th>BE</th>\n",
       "      <th>Letzter_Nachweis</th>\n",
       "      <th>Deutscher_Name</th>\n",
       "      <th>Reference</th>\n",
       "    </tr>\n",
       "  </thead>\n",
       "  <tbody>\n",
       "  </tbody>\n",
       "</table>\n",
       "</div>"
      ],
      "text/plain": [
       "Empty DataFrame\n",
       "Columns: [Species, Family, BE, Letzter_Nachweis, Deutscher_Name, Reference]\n",
       "Index: []"
      ]
     },
     "execution_count": 10,
     "metadata": {},
     "output_type": "execute_result"
    }
   ],
   "source": [
    "# BE\n",
    "df[df.BE.isna()]"
   ]
  },
  {
   "cell_type": "code",
   "execution_count": 11,
   "id": "dbdf87d0-e17d-492f-915f-6d22d59f59fe",
   "metadata": {},
   "outputs": [
    {
     "name": "stdout",
     "output_type": "stream",
     "text": [
      "421\n",
      "29.82\n"
     ]
    },
    {
     "data": {
      "text/html": [
       "<div>\n",
       "<style scoped>\n",
       "    .dataframe tbody tr th:only-of-type {\n",
       "        vertical-align: middle;\n",
       "    }\n",
       "\n",
       "    .dataframe tbody tr th {\n",
       "        vertical-align: top;\n",
       "    }\n",
       "\n",
       "    .dataframe thead th {\n",
       "        text-align: right;\n",
       "    }\n",
       "</style>\n",
       "<table border=\"1\" class=\"dataframe\">\n",
       "  <thead>\n",
       "    <tr style=\"text-align: right;\">\n",
       "      <th></th>\n",
       "      <th>Species</th>\n",
       "      <th>Family</th>\n",
       "      <th>BE</th>\n",
       "      <th>Letzter_Nachweis</th>\n",
       "      <th>Deutscher_Name</th>\n",
       "      <th>Reference</th>\n",
       "    </tr>\n",
       "  </thead>\n",
       "  <tbody>\n",
       "    <tr>\n",
       "      <th>32</th>\n",
       "      <td>Aphodius conspurcatus</td>\n",
       "      <td>Scarabaeidae</td>\n",
       "      <td>0</td>\n",
       "      <td>NaN</td>\n",
       "      <td>NaN</td>\n",
       "      <td>Rote Liste und Gesamtartenliste der Blatthornk...</td>\n",
       "    </tr>\n",
       "    <tr>\n",
       "      <th>33</th>\n",
       "      <td>Aphodius foetidus</td>\n",
       "      <td>Scarabaeidae</td>\n",
       "      <td>0</td>\n",
       "      <td>NaN</td>\n",
       "      <td>NaN</td>\n",
       "      <td>Rote Liste und Gesamtartenliste der Blatthornk...</td>\n",
       "    </tr>\n",
       "    <tr>\n",
       "      <th>34</th>\n",
       "      <td>Aphodius lividus</td>\n",
       "      <td>Scarabaeidae</td>\n",
       "      <td>0</td>\n",
       "      <td>NaN</td>\n",
       "      <td>NaN</td>\n",
       "      <td>Rote Liste und Gesamtartenliste der Blatthornk...</td>\n",
       "    </tr>\n",
       "    <tr>\n",
       "      <th>35</th>\n",
       "      <td>Aphodius niger</td>\n",
       "      <td>Scarabaeidae</td>\n",
       "      <td>0</td>\n",
       "      <td>NaN</td>\n",
       "      <td>NaN</td>\n",
       "      <td>Rote Liste und Gesamtartenliste der Blatthornk...</td>\n",
       "    </tr>\n",
       "    <tr>\n",
       "      <th>36</th>\n",
       "      <td>Aphodius obliteratus</td>\n",
       "      <td>Scarabaeidae</td>\n",
       "      <td>0</td>\n",
       "      <td>NaN</td>\n",
       "      <td>NaN</td>\n",
       "      <td>Rote Liste und Gesamtartenliste der Blatthornk...</td>\n",
       "    </tr>\n",
       "  </tbody>\n",
       "</table>\n",
       "</div>"
      ],
      "text/plain": [
       "                  Species        Family  BE Letzter_Nachweis Deutscher_Name  \\\n",
       "32  Aphodius conspurcatus  Scarabaeidae   0              NaN            NaN   \n",
       "33      Aphodius foetidus  Scarabaeidae   0              NaN            NaN   \n",
       "34       Aphodius lividus  Scarabaeidae   0              NaN            NaN   \n",
       "35         Aphodius niger  Scarabaeidae   0              NaN            NaN   \n",
       "36   Aphodius obliteratus  Scarabaeidae   0              NaN            NaN   \n",
       "\n",
       "                                            Reference  \n",
       "32  Rote Liste und Gesamtartenliste der Blatthornk...  \n",
       "33  Rote Liste und Gesamtartenliste der Blatthornk...  \n",
       "34  Rote Liste und Gesamtartenliste der Blatthornk...  \n",
       "35  Rote Liste und Gesamtartenliste der Blatthornk...  \n",
       "36  Rote Liste und Gesamtartenliste der Blatthornk...  "
      ]
     },
     "execution_count": 11,
     "metadata": {},
     "output_type": "execute_result"
    }
   ],
   "source": [
    "# Letzter_Nachweis\n",
    "print(df.Letzter_Nachweis.isna().sum())\n",
    "print(((df.Letzter_Nachweis.isna().sum()/df.Species.count())*100).round(2))\n",
    "df[df.Letzter_Nachweis.isna()].head()"
   ]
  },
  {
   "cell_type": "code",
   "execution_count": 12,
   "id": "f156e7ec-d271-42bb-9e31-76fa62c4b695",
   "metadata": {},
   "outputs": [
    {
     "name": "stdout",
     "output_type": "stream",
     "text": [
      "902\n",
      "63.88\n"
     ]
    },
    {
     "data": {
      "text/html": [
       "<div>\n",
       "<style scoped>\n",
       "    .dataframe tbody tr th:only-of-type {\n",
       "        vertical-align: middle;\n",
       "    }\n",
       "\n",
       "    .dataframe tbody tr th {\n",
       "        vertical-align: top;\n",
       "    }\n",
       "\n",
       "    .dataframe thead th {\n",
       "        text-align: right;\n",
       "    }\n",
       "</style>\n",
       "<table border=\"1\" class=\"dataframe\">\n",
       "  <thead>\n",
       "    <tr style=\"text-align: right;\">\n",
       "      <th></th>\n",
       "      <th>Species</th>\n",
       "      <th>Family</th>\n",
       "      <th>BE</th>\n",
       "      <th>Letzter_Nachweis</th>\n",
       "      <th>Deutscher_Name</th>\n",
       "      <th>Reference</th>\n",
       "    </tr>\n",
       "  </thead>\n",
       "  <tbody>\n",
       "    <tr>\n",
       "      <th>0</th>\n",
       "      <td>Donacia brevicornis</td>\n",
       "      <td>Chrysomelidae</td>\n",
       "      <td>0</td>\n",
       "      <td>vor 1907</td>\n",
       "      <td>NaN</td>\n",
       "      <td>Rote Liste und Gesamtartenliste der Blattkäfer...</td>\n",
       "    </tr>\n",
       "    <tr>\n",
       "      <th>1</th>\n",
       "      <td>Donacia dentata</td>\n",
       "      <td>Chrysomelidae</td>\n",
       "      <td>0</td>\n",
       "      <td>1937</td>\n",
       "      <td>NaN</td>\n",
       "      <td>Rote Liste und Gesamtartenliste der Blattkäfer...</td>\n",
       "    </tr>\n",
       "    <tr>\n",
       "      <th>2</th>\n",
       "      <td>Donacia obscura</td>\n",
       "      <td>Chrysomelidae</td>\n",
       "      <td>0</td>\n",
       "      <td>vor 1907</td>\n",
       "      <td>NaN</td>\n",
       "      <td>Rote Liste und Gesamtartenliste der Blattkäfer...</td>\n",
       "    </tr>\n",
       "    <tr>\n",
       "      <th>3</th>\n",
       "      <td>Donacia thalassina</td>\n",
       "      <td>Chrysomelidae</td>\n",
       "      <td>0</td>\n",
       "      <td>vor 1950</td>\n",
       "      <td>NaN</td>\n",
       "      <td>Rote Liste und Gesamtartenliste der Blattkäfer...</td>\n",
       "    </tr>\n",
       "    <tr>\n",
       "      <th>4</th>\n",
       "      <td>Donacia tomentosa</td>\n",
       "      <td>Chrysomelidae</td>\n",
       "      <td>0</td>\n",
       "      <td>1943</td>\n",
       "      <td>NaN</td>\n",
       "      <td>Rote Liste und Gesamtartenliste der Blattkäfer...</td>\n",
       "    </tr>\n",
       "  </tbody>\n",
       "</table>\n",
       "</div>"
      ],
      "text/plain": [
       "               Species         Family  BE Letzter_Nachweis Deutscher_Name  \\\n",
       "0  Donacia brevicornis  Chrysomelidae   0         vor 1907            NaN   \n",
       "1      Donacia dentata  Chrysomelidae   0             1937            NaN   \n",
       "2      Donacia obscura  Chrysomelidae   0         vor 1907            NaN   \n",
       "3   Donacia thalassina  Chrysomelidae   0         vor 1950            NaN   \n",
       "4    Donacia tomentosa  Chrysomelidae   0             1943            NaN   \n",
       "\n",
       "                                           Reference  \n",
       "0  Rote Liste und Gesamtartenliste der Blattkäfer...  \n",
       "1  Rote Liste und Gesamtartenliste der Blattkäfer...  \n",
       "2  Rote Liste und Gesamtartenliste der Blattkäfer...  \n",
       "3  Rote Liste und Gesamtartenliste der Blattkäfer...  \n",
       "4  Rote Liste und Gesamtartenliste der Blattkäfer...  "
      ]
     },
     "execution_count": 12,
     "metadata": {},
     "output_type": "execute_result"
    }
   ],
   "source": [
    "# Deutscher_Name\n",
    "print(df.Deutscher_Name.isna().sum())\n",
    "print(((df.Deutscher_Name.isna().sum()/df.Species.count())*100).round(2))\n",
    "df[df.Deutscher_Name.isna()].head()"
   ]
  },
  {
   "cell_type": "code",
   "execution_count": 13,
   "id": "9975d029-f0ed-4307-ba02-7222f20f15f5",
   "metadata": {},
   "outputs": [
    {
     "data": {
      "text/html": [
       "<div>\n",
       "<style scoped>\n",
       "    .dataframe tbody tr th:only-of-type {\n",
       "        vertical-align: middle;\n",
       "    }\n",
       "\n",
       "    .dataframe tbody tr th {\n",
       "        vertical-align: top;\n",
       "    }\n",
       "\n",
       "    .dataframe thead th {\n",
       "        text-align: right;\n",
       "    }\n",
       "</style>\n",
       "<table border=\"1\" class=\"dataframe\">\n",
       "  <thead>\n",
       "    <tr style=\"text-align: right;\">\n",
       "      <th></th>\n",
       "      <th>Species</th>\n",
       "      <th>Family</th>\n",
       "      <th>BE</th>\n",
       "      <th>Letzter_Nachweis</th>\n",
       "      <th>Deutscher_Name</th>\n",
       "      <th>Reference</th>\n",
       "    </tr>\n",
       "  </thead>\n",
       "  <tbody>\n",
       "  </tbody>\n",
       "</table>\n",
       "</div>"
      ],
      "text/plain": [
       "Empty DataFrame\n",
       "Columns: [Species, Family, BE, Letzter_Nachweis, Deutscher_Name, Reference]\n",
       "Index: []"
      ]
     },
     "execution_count": 13,
     "metadata": {},
     "output_type": "execute_result"
    }
   ],
   "source": [
    "# Reference\n",
    "df[df.Reference.isna()]"
   ]
  },
  {
   "cell_type": "markdown",
   "id": "a0df73c3-a1e3-4556-941b-64365d9bb384",
   "metadata": {},
   "source": [
    "# Checking for space chars included as str"
   ]
  },
  {
   "cell_type": "code",
   "execution_count": 14,
   "id": "861cb65e-3b3d-41cd-b980-606776fca485",
   "metadata": {},
   "outputs": [
    {
     "data": {
      "text/html": [
       "<div>\n",
       "<style scoped>\n",
       "    .dataframe tbody tr th:only-of-type {\n",
       "        vertical-align: middle;\n",
       "    }\n",
       "\n",
       "    .dataframe tbody tr th {\n",
       "        vertical-align: top;\n",
       "    }\n",
       "\n",
       "    .dataframe thead th {\n",
       "        text-align: right;\n",
       "    }\n",
       "</style>\n",
       "<table border=\"1\" class=\"dataframe\">\n",
       "  <thead>\n",
       "    <tr style=\"text-align: right;\">\n",
       "      <th></th>\n",
       "      <th>Species</th>\n",
       "      <th>Family</th>\n",
       "      <th>BE</th>\n",
       "      <th>Letzter_Nachweis</th>\n",
       "      <th>Deutscher_Name</th>\n",
       "      <th>Reference</th>\n",
       "    </tr>\n",
       "  </thead>\n",
       "  <tbody>\n",
       "    <tr>\n",
       "      <th>0</th>\n",
       "      <td>Donacia brevicornis</td>\n",
       "      <td>Chrysomelidae</td>\n",
       "      <td>0</td>\n",
       "      <td>vor 1907</td>\n",
       "      <td>NaN</td>\n",
       "      <td>Rote Liste und Gesamtartenliste der Blattkäfer...</td>\n",
       "    </tr>\n",
       "    <tr>\n",
       "      <th>1</th>\n",
       "      <td>Donacia dentata</td>\n",
       "      <td>Chrysomelidae</td>\n",
       "      <td>0</td>\n",
       "      <td>1937</td>\n",
       "      <td>NaN</td>\n",
       "      <td>Rote Liste und Gesamtartenliste der Blattkäfer...</td>\n",
       "    </tr>\n",
       "    <tr>\n",
       "      <th>2</th>\n",
       "      <td>Donacia obscura</td>\n",
       "      <td>Chrysomelidae</td>\n",
       "      <td>0</td>\n",
       "      <td>vor 1907</td>\n",
       "      <td>NaN</td>\n",
       "      <td>Rote Liste und Gesamtartenliste der Blattkäfer...</td>\n",
       "    </tr>\n",
       "    <tr>\n",
       "      <th>3</th>\n",
       "      <td>Donacia thalassina</td>\n",
       "      <td>Chrysomelidae</td>\n",
       "      <td>0</td>\n",
       "      <td>vor 1950</td>\n",
       "      <td>NaN</td>\n",
       "      <td>Rote Liste und Gesamtartenliste der Blattkäfer...</td>\n",
       "    </tr>\n",
       "    <tr>\n",
       "      <th>4</th>\n",
       "      <td>Donacia tomentosa</td>\n",
       "      <td>Chrysomelidae</td>\n",
       "      <td>0</td>\n",
       "      <td>1943</td>\n",
       "      <td>NaN</td>\n",
       "      <td>Rote Liste und Gesamtartenliste der Blattkäfer...</td>\n",
       "    </tr>\n",
       "  </tbody>\n",
       "</table>\n",
       "</div>"
      ],
      "text/plain": [
       "               Species         Family  BE Letzter_Nachweis Deutscher_Name  \\\n",
       "0  Donacia brevicornis  Chrysomelidae   0         vor 1907            NaN   \n",
       "1      Donacia dentata  Chrysomelidae   0             1937            NaN   \n",
       "2      Donacia obscura  Chrysomelidae   0         vor 1907            NaN   \n",
       "3   Donacia thalassina  Chrysomelidae   0         vor 1950            NaN   \n",
       "4    Donacia tomentosa  Chrysomelidae   0             1943            NaN   \n",
       "\n",
       "                                           Reference  \n",
       "0  Rote Liste und Gesamtartenliste der Blattkäfer...  \n",
       "1  Rote Liste und Gesamtartenliste der Blattkäfer...  \n",
       "2  Rote Liste und Gesamtartenliste der Blattkäfer...  \n",
       "3  Rote Liste und Gesamtartenliste der Blattkäfer...  \n",
       "4  Rote Liste und Gesamtartenliste der Blattkäfer...  "
      ]
     },
     "execution_count": 14,
     "metadata": {},
     "output_type": "execute_result"
    }
   ],
   "source": [
    "df.head()"
   ]
  },
  {
   "cell_type": "code",
   "execution_count": 15,
   "id": "a39a76cb-da34-4f11-bfaa-23c42baaa5f4",
   "metadata": {},
   "outputs": [
    {
     "name": "stdout",
     "output_type": "stream",
     "text": [
      "Species\n",
      "0\n",
      "Reference\n",
      "0\n",
      "Species\n",
      "0\n",
      "Reference\n",
      "0\n",
      "Species\n",
      "0\n",
      "Reference\n",
      "0\n",
      "Species\n",
      "0\n",
      "Reference\n",
      "0\n",
      "Species\n",
      "0\n",
      "Reference\n",
      "0\n"
     ]
    }
   ],
   "source": [
    "isspace_list = [\"\\f\", \"\\n\", \"\\r\", \"\\t\", \"\\v\"]\n",
    "\n",
    "for i in isspace_list:\n",
    "    print(\"Species\")\n",
    "    print(df[df[\"Species\"].str.contains(i)][\"Species\"].count())\n",
    "    print(\"Reference\")\n",
    "    print(df[df[\"Reference\"].str.contains(i)][\"Reference\"].count())"
   ]
  },
  {
   "cell_type": "code",
   "execution_count": 16,
   "id": "d99754af-7bab-48c5-a38f-f4d473c078c4",
   "metadata": {},
   "outputs": [
    {
     "name": "stdout",
     "output_type": "stream",
     "text": [
      "<class 'pandas.core.frame.DataFrame'>\n",
      "RangeIndex: 1412 entries, 0 to 1411\n",
      "Data columns (total 6 columns):\n",
      " #   Column            Non-Null Count  Dtype \n",
      "---  ------            --------------  ----- \n",
      " 0   Species           1412 non-null   object\n",
      " 1   Family            1411 non-null   object\n",
      " 2   BE                1412 non-null   int64 \n",
      " 3   Letzter_Nachweis  991 non-null    object\n",
      " 4   Deutscher_Name    510 non-null    object\n",
      " 5   Reference         1412 non-null   object\n",
      "dtypes: int64(1), object(5)\n",
      "memory usage: 66.3+ KB\n"
     ]
    }
   ],
   "source": [
    "df.info()"
   ]
  },
  {
   "cell_type": "code",
   "execution_count": 17,
   "id": "8e64968b-43bb-42de-a767-0d18914a4d9d",
   "metadata": {},
   "outputs": [],
   "source": [
    "# Saving the extracted csv to the \"Transformation\" directory\n",
    "# export the dataframe as CSV\n",
    "\n",
    "df.to_csv('../../Transformation/Final.csv', \n",
    "          index=False)"
   ]
  },
  {
   "cell_type": "code",
   "execution_count": null,
   "id": "f5aa42b6-0179-4fe9-98ce-50d0b31e4333",
   "metadata": {},
   "outputs": [],
   "source": []
  }
 ],
 "metadata": {
  "kernelspec": {
   "display_name": "Python 3 (ipykernel)",
   "language": "python",
   "name": "python3"
  },
  "language_info": {
   "codemirror_mode": {
    "name": "ipython",
    "version": 3
   },
   "file_extension": ".py",
   "mimetype": "text/x-python",
   "name": "python",
   "nbconvert_exporter": "python",
   "pygments_lexer": "ipython3",
   "version": "3.8.9"
  }
 },
 "nbformat": 4,
 "nbformat_minor": 5
}
