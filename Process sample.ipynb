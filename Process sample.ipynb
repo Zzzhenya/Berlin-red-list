{
 "cells": [
  {
   "cell_type": "code",
   "execution_count": 17,
   "id": "620ba740-c064-4863-a91a-67136ef7c3e3",
   "metadata": {},
   "outputs": [],
   "source": [
    "import camelot\n",
    "import pandas as pd"
   ]
  },
  {
   "cell_type": "markdown",
   "id": "5df01434-db98-4059-a960-1b0fc92aeb74",
   "metadata": {},
   "source": [
    "# Updated Process"
   ]
  },
  {
   "cell_type": "markdown",
   "id": "a154dee1-1812-4d0c-952a-038784a62b69",
   "metadata": {
    "tags": []
   },
   "source": [
    "## 1. Create empty dataframe with proper column names"
   ]
  },
  {
   "cell_type": "code",
   "execution_count": null,
   "id": "7bc3aae2-2450-4c75-b76c-ce0b5372fd61",
   "metadata": {},
   "outputs": [],
   "source": [
    "# This is where data will be added after cleaning. The final dataframe for export"
   ]
  },
  {
   "cell_type": "code",
   "execution_count": 47,
   "id": "34bffb55-bd0f-426b-90ba-a77f9379d5cd",
   "metadata": {},
   "outputs": [
    {
     "data": {
      "text/html": [
       "<div>\n",
       "<style scoped>\n",
       "    .dataframe tbody tr th:only-of-type {\n",
       "        vertical-align: middle;\n",
       "    }\n",
       "\n",
       "    .dataframe tbody tr th {\n",
       "        vertical-align: top;\n",
       "    }\n",
       "\n",
       "    .dataframe thead th {\n",
       "        text-align: right;\n",
       "    }\n",
       "</style>\n",
       "<table border=\"1\" class=\"dataframe\">\n",
       "  <thead>\n",
       "    <tr style=\"text-align: right;\">\n",
       "      <th></th>\n",
       "      <th>Species</th>\n",
       "      <th>BE</th>\n",
       "      <th>Bestand</th>\n",
       "      <th>Vor_1990</th>\n",
       "      <th>1990_2017</th>\n",
       "      <th>Trend_kurz</th>\n",
       "      <th>Habitat</th>\n",
       "      <th>D</th>\n",
       "      <th>BB</th>\n",
       "      <th>GS</th>\n",
       "      <th>Common_name</th>\n",
       "    </tr>\n",
       "  </thead>\n",
       "  <tbody>\n",
       "  </tbody>\n",
       "</table>\n",
       "</div>"
      ],
      "text/plain": [
       "Empty DataFrame\n",
       "Columns: [Species, BE, Bestand, Vor_1990, 1990_2017, Trend_kurz, Habitat, D, BB, GS, Common_name]\n",
       "Index: []"
      ]
     },
     "execution_count": 47,
     "metadata": {},
     "output_type": "execute_result"
    }
   ],
   "source": [
    "df = pd.DataFrame(columns = [\n",
    "    \"Species\",\n",
    "    \"BE\", \n",
    "    \"Bestand\", \n",
    "    \"Vor_1990\", \n",
    "    \"1990_2017\",\n",
    "    \"Trend_kurz\",\n",
    "    \"Habitat\",\n",
    "    \"D\",\n",
    "    \"BB\",\n",
    "    \"GS\",\n",
    "    \"Common_name\"\n",
    "])\n",
    "df"
   ]
  },
  {
   "cell_type": "code",
   "execution_count": 48,
   "id": "47f97437-2eef-4c9b-8deb-d1e2f84793ad",
   "metadata": {},
   "outputs": [
    {
     "data": {
      "text/plain": [
       "(0, 11)"
      ]
     },
     "execution_count": 48,
     "metadata": {},
     "output_type": "execute_result"
    }
   ],
   "source": [
    "df.shape"
   ]
  },
  {
   "cell_type": "markdown",
   "id": "5603d676-871d-4ea0-a427-ff51d1b2a331",
   "metadata": {},
   "source": [
    "## 2. Setup mechanism to store accuracy report : QA step"
   ]
  },
  {
   "cell_type": "code",
   "execution_count": 50,
   "id": "946990cf-3a79-4a65-aaa1-c4f179995d67",
   "metadata": {},
   "outputs": [],
   "source": [
    "accuracy = []"
   ]
  },
  {
   "cell_type": "markdown",
   "id": "ee9ae4b1-5ed3-4c80-a0ed-948dbe574bfc",
   "metadata": {},
   "source": [
    "## 3. Dictionary of dataframes on the go"
   ]
  },
  {
   "cell_type": "code",
   "execution_count": null,
   "id": "b2c7ed2b-b619-4a75-b052-12c8adb562cb",
   "metadata": {},
   "outputs": [],
   "source": [
    "# Dictionary to collect dataframes created from each table\n",
    "d = {}"
   ]
  },
  {
   "cell_type": "markdown",
   "id": "09ced9f2-acca-4c75-a113-0c06281a93cf",
   "metadata": {},
   "source": [
    "## 4. Adding the list of pages to be parsed"
   ]
  },
  {
   "cell_type": "code",
   "execution_count": null,
   "id": "c7bd13c5-208e-4997-9366-2d4a2b43a355",
   "metadata": {},
   "outputs": [],
   "source": [
    "pages = []\n",
    "i = 11\n",
    "while i < 89:\n",
    "    pages.append(i)\n",
    "    i = i + 1\n",
    "print(pages)"
   ]
  },
  {
   "cell_type": "markdown",
   "id": "e842252d-a796-45fb-b0cc-6a727f2a7bf7",
   "metadata": {},
   "source": [
    "## 5. Parsing through the pages"
   ]
  },
  {
   "cell_type": "code",
   "execution_count": null,
   "id": "712128aa-f576-47fe-be80-4f5019d26b25",
   "metadata": {},
   "outputs": [],
   "source": [
    "for i in pages:\n",
    "    # print page number\n",
    "    print (i)\n",
    "    # create dataframe with page number\n",
    "    d[i] = pd.DataFrame()\n",
    "    #read the page\n",
    "    #tables = camelot.read_pdf('18_netzfl_print.pdf', \n",
    "    #                          pages= str(i), \n",
    "    #                          flavor='stream', edge_tol=1000, row_tol=10)\n",
    "    tables = camelot.read_pdf('18_netzfl_print.pdf', pages= str(i), flavor='lattice')\n",
    "    # add the accuracy report\n",
    "    accuracy.append(tables[0].parsing_report)\n",
    "    # assign the first table to a dataframe\n",
    "    d[i] = tables[0].df\n",
    "    print(d[i].shape)\n",
    "# Print Done once all pages are parsed\n",
    "print (\"Done\")"
   ]
  },
  {
   "cell_type": "code",
   "execution_count": null,
   "id": "2f528b80-4a01-4eb4-9e53-43796ff224b4",
   "metadata": {},
   "outputs": [],
   "source": [
    "# Check accuracy reports for the process\n",
    "accuracy"
   ]
  },
  {
   "cell_type": "markdown",
   "id": "db574ad8-2c03-45ce-b016-28f12fc1d8d7",
   "metadata": {},
   "source": [
    "# Data cleanup steps"
   ]
  },
  {
   "cell_type": "raw",
   "id": "827959ab-12d0-4ea2-a41f-da7480ffbb91",
   "metadata": {},
   "source": [
    "d[67]       \n",
    "    : Look at the data frame extracted from 67th page\n",
    "d[67].shape \n",
    "    : Look at the shape of the dataframe\n",
    "d[68] = d[68].drop([12], axis=1)\n",
    "    : Drop the 12th column in place\n",
    "d[68][10] = d[68][[10, 11]].agg(' '.join, axis=1)\n",
    "    : Join 10th and 11th columns with a space in between\n",
    "d[69][[9,11]] = d[69][9].str.split('\\n', expand=True)\n",
    "    : Split 9th Column at the '\\n' sign and add a new column called 11\n",
    "column_to_move = d[69].pop(11)\n",
    "column_to_move\n",
    "d[69].insert(9, 11, column_to_move )\n",
    "    : Pop column 11 and insert it at column 9\n",
    "d[75].insert(9, '10', [\"\",\"\"])\n",
    "    : Insert two rows of column 10 after 9 with empty cells"
   ]
  },
  {
   "cell_type": "code",
   "execution_count": null,
   "id": "565bcabf-5b9e-4f04-bf5b-231a56802061",
   "metadata": {},
   "outputs": [],
   "source": [
    "# Check whether all dataframes are of the same size\n",
    "for key in d:\n",
    "    print(key)\n",
    "    print(d[key].shape)"
   ]
  },
  {
   "cell_type": "code",
   "execution_count": null,
   "id": "259d931e-07a9-42a1-b92b-4ec85c5777a6",
   "metadata": {},
   "outputs": [],
   "source": [
    "# Removing empty dataframes\n",
    "# del d[64]\n",
    "# del d[74]"
   ]
  },
  {
   "cell_type": "code",
   "execution_count": null,
   "id": "7d240c16-c939-4ce2-bc90-bdcfc52fe84c",
   "metadata": {},
   "outputs": [],
   "source": [
    "# Creates a sorted dictionary (sorted by key)\n",
    "from collections import OrderedDict\n",
    "d2 = OrderedDict(sorted(d.items()))"
   ]
  },
  {
   "cell_type": "code",
   "execution_count": null,
   "id": "65c02a66-f14e-442d-a521-0c518f27c4a4",
   "metadata": {},
   "outputs": [],
   "source": [
    "# Check whether the dictionary is sorted\n",
    "for key in d2:\n",
    "    print(key)"
   ]
  },
  {
   "cell_type": "code",
   "execution_count": null,
   "id": "73e281ce-f58d-4991-9c1c-3b04638ceb0b",
   "metadata": {},
   "outputs": [],
   "source": [
    "# Rename all the dataframes in the sorted dictionary\n",
    "for key in d2:\n",
    "    print(key)\n",
    "    d2[key].columns = [ \"Species\",\n",
    "    \"BE\", \n",
    "    \"Bestand\", \n",
    "    \"Vor_1990\", \n",
    "    \"1990_2017\",\n",
    "    \"Trend_kurz\",\n",
    "    \"Habitat\",\n",
    "    \"D\",\n",
    "    \"BB\",\n",
    "    \"GS\",\n",
    "    \"Common_name\"]\n",
    "print(\"Rename completed for concat\")"
   ]
  },
  {
   "cell_type": "code",
   "execution_count": null,
   "id": "b7e6983e-7c81-4852-9268-0dc9c1c98636",
   "metadata": {},
   "outputs": [],
   "source": [
    "# Concatanate all the non-empty dataframes in the sorted dictionary into the empty df\n",
    "for key in d2:\n",
    "    df = pd.concat([df, d2[key]], axis = 0)\n",
    "df"
   ]
  },
  {
   "cell_type": "code",
   "execution_count": null,
   "id": "e0bc1775-ea39-4950-869e-a410700ee7b0",
   "metadata": {},
   "outputs": [],
   "source": [
    "# Definition of extinction\n",
    "df2 = df.loc[df[\"BE\"] == \"0\"]\n",
    "df2.head()"
   ]
  },
  {
   "cell_type": "code",
   "execution_count": null,
   "id": "f4ecfb11-f533-441b-8c07-57acbee72ff3",
   "metadata": {},
   "outputs": [],
   "source": [
    "df2.reset_index(inplace = True)\n",
    "df2.head()"
   ]
  },
  {
   "cell_type": "code",
   "execution_count": null,
   "id": "324c3322-452d-4f9d-b4e9-74757b5e8439",
   "metadata": {},
   "outputs": [],
   "source": [
    "df2 = df2.drop(['index'], axis=1)\n",
    "df2.head()"
   ]
  },
  {
   "cell_type": "code",
   "execution_count": null,
   "id": "4a1d2c02-ffd3-4bf6-a764-e44b16658fc0",
   "metadata": {},
   "outputs": [],
   "source": [
    "df3 = df.loc[df[\"Bestand\"] == \"ex\"]\n",
    "df3.reset_index(inplace = True)\n",
    "df3 = df3.drop(['index'], axis=1)\n",
    "df3.head()"
   ]
  },
  {
   "cell_type": "code",
   "execution_count": null,
   "id": "a238f8a8-ae9a-4e2d-9fac-6c9c32e203b7",
   "metadata": {},
   "outputs": [],
   "source": [
    "df2.describe()"
   ]
  },
  {
   "cell_type": "code",
   "execution_count": null,
   "id": "fc838514-790c-4c43-bade-5debda89199c",
   "metadata": {},
   "outputs": [],
   "source": [
    "df3.describe()"
   ]
  },
  {
   "cell_type": "code",
   "execution_count": null,
   "id": "14eda330-12b0-4641-959e-258e5695efdd",
   "metadata": {},
   "outputs": [],
   "source": [
    "# export the dataframe as CSV\n",
    "df2.to_csv('Group_name.csv', index=False)"
   ]
  }
 ],
 "metadata": {
  "kernelspec": {
   "display_name": "Python 3 (ipykernel)",
   "language": "python",
   "name": "python3"
  },
  "language_info": {
   "codemirror_mode": {
    "name": "ipython",
    "version": 3
   },
   "file_extension": ".py",
   "mimetype": "text/x-python",
   "name": "python",
   "nbconvert_exporter": "python",
   "pygments_lexer": "ipython3",
   "version": "3.8.9"
  }
 },
 "nbformat": 4,
 "nbformat_minor": 5
}
